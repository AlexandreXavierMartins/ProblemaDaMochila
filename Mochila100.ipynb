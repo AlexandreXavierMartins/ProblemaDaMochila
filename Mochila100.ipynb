{
  "nbformat": 4,
  "nbformat_minor": 0,
  "metadata": {
    "colab": {
      "provenance": [],
      "authorship_tag": "ABX9TyNdZDDdPqWHapvRGP7m+k46",
      "include_colab_link": true
    },
    "kernelspec": {
      "name": "python3",
      "display_name": "Python 3"
    },
    "language_info": {
      "name": "python"
    }
  },
  "cells": [
    {
      "cell_type": "markdown",
      "metadata": {
        "id": "view-in-github",
        "colab_type": "text"
      },
      "source": [
        "<a href=\"https://colab.research.google.com/github/AlexandreXavierMartins/ProblemaDaMochila/blob/main/Mochila100.ipynb\" target=\"_parent\"><img src=\"https://colab.research.google.com/assets/colab-badge.svg\" alt=\"Open In Colab\"/></a>"
      ]
    },
    {
      "cell_type": "code",
      "execution_count": null,
      "metadata": {
        "id": "afSciLrHWa3T"
      },
      "outputs": [],
      "source": [
        "n = 100\n",
        "beneficio = [10, 9, 9, 10, 15, 11, 10, 16, 12, 12, 12, 12, 4, 8, 12, 11, 15, 9, 11, 10, 10, 12, 10, 12, 6, 10, 10, 13, 9, 14, 10, 12, 9, 12, 13, 11, 10, 15, 11, 5, 13, 13, 15, 12, 10, 11, 14, 8, 9, 11, 19, 10, 12, 12, 12, 10, 13, 10, 14, 16, 12, 11, 8, 11, 8, 10, 12, 13, 6, 16, 11, 8, 13, 10, 11, 7, 12, 11, 13, 13, 12, 12, 12, 10, 12, 12, 13, 16, 12, 3, 13, 7, 9, 12, 8, 14, 11, 15, 12, 14]\n",
        "peso = [11, 13, 12, 14, 8, 14, 4, 11, 17, 13, 15, 11, 17, 10, 14, 15, 12, 12, 16, 10, 10, 14, 18, 13, 12, 13, 9, 15, 12, 2, 13, 6, 13, 17, 6, 10, 11, 10, 13, 12, 15, 16, 12, 16, 13, 8, 9, 11, 8, 14, 20, 16, 8, 10, 5, 15, 12, 16, 12, 5, 14, 12, 13, 4, 13, 10, 11, 10, 16, 20, 10, 10, 12, 14, 10, 15, 7, 15, 13, 12, 9, 11, 4, 15, 13, 13, 17, 8, 8, 10, 15, 8, 11, 16, 9, 11, 12, 4, 4, 15]\n"
      ]
    }
  ]
}