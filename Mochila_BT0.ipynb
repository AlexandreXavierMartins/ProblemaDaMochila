{
  "nbformat": 4,
  "nbformat_minor": 0,
  "metadata": {
    "colab": {
      "name": "Mochila BT0.ipynb",
      "provenance": [],
      "collapsed_sections": [],
      "authorship_tag": "ABX9TyMtc96i+NDVkHojLp3DuxDp",
      "include_colab_link": true
    },
    "kernelspec": {
      "name": "python3",
      "display_name": "Python 3"
    },
    "language_info": {
      "name": "python"
    }
  },
  "cells": [
    {
      "cell_type": "markdown",
      "metadata": {
        "id": "view-in-github",
        "colab_type": "text"
      },
      "source": [
        "<a href=\"https://colab.research.google.com/github/AlexandreXavierMartins/ProblemaDaMochila/blob/main/Mochila_BT0.ipynb\" target=\"_parent\"><img src=\"https://colab.research.google.com/assets/colab-badge.svg\" alt=\"Open In Colab\"/></a>"
      ]
    },
    {
      "cell_type": "code",
      "metadata": {
        "id": "ZkqOOpFLSmaU"
      },
      "source": [
        "import numpy as np\n",
        "import math\n",
        "import matplotlib.pyplot as plt\n",
        "\n",
        "def busca_tabu(s, fo, b, p, n, pena, Tam, iter_max):\n",
        "  #Inicializa\n",
        "  #Enquanto critério Procura melhor vizinho\n",
        "  #Atualiza a Lista tabu\n",
        "  #Verifica se atualiza melhor solução\n",
        "  #Retorna a melhor solução\n",
        "\n",
        "\n",
        "def gera_sol(s, n, taxa):\n",
        "  for i in range(n):\n",
        "    x = np.random.random()\n",
        "    if x < taxa:\n",
        "      s[i] = 1\n",
        "  return s\n",
        "\n",
        "def calcula_fo(b, p, s, n, cap, pena):\n",
        "  fo = 0\n",
        "  pt = 0\n",
        "  for i in range(n):\n",
        "    fo = fo + s[i]*b[i]\n",
        "    pt = pt + s[i]*p[i]\n",
        "  if pt > cap:\n",
        "    #print('Solução inviável')\n",
        "    fo = fo -pena*(pt - cap)\n",
        "  return fo\n",
        "\n",
        "#DADOS DO PROBLEMA-------------------#\n",
        "n = 8 #Quantidade de objetos\n",
        "beneficio = [4, 3, 2, 6, 2, 3, 5, 4]\n",
        "peso =      [5, 4, 3, 9, 4, 2, 6, 7]\n",
        "cap = 20 #Capacidade da mochila\n",
        "#------------------------------------#\n",
        "#ESTATÍSTICAS------------------------#\n",
        "fo_inicial = []\n",
        "fo_final = []\n",
        "xlabel = []\n",
        "media = 0\n",
        "#------------------------------------#\n",
        "#PARÂMETROS--------------------------#\n",
        "penalidade = 2 #Penalidade por solução inviável\n",
        "taxa = 0.50    #Taxa para gerar sol. inicial, deve ser entre (0,1)\n",
        "\n",
        "itermax = 20\n",
        "Tam = int(n/2)\n",
        "#------------------------------------#\n",
        "\n",
        "experimentos = 1\n",
        "for seed in range(experimentos):\n",
        "  xlabel.append(seed)\n",
        "  sol_star = n*[0]\n",
        "  fo_star = -math.inf \n",
        "  np.random.seed(seed)\n",
        "  sol = n*[0] #Vetor para guardar a Solução\n",
        "  gera_sol(sol, n, taxa)\n",
        "  fo = calcula_fo(beneficio, peso, sol, n, cap, penalidade)\n",
        "  for i in range(n):\n",
        "    sol_star[i] = sol[i]\n",
        "  fo_star = fo\n",
        "  fo_star, sol_star = busca_tabu(sol, fo, beneficio, peso, n, penalidade, Tam, itermax)\n",
        "\n",
        "\n",
        "  media = media + fo_star\n",
        "  fo_final.append(fo_star)\n",
        "\n",
        "media = media/experimentos\n",
        "#print('Melhor solução = ', fo_star)\n",
        "#print('Melhor iteração =', best_iter)\n",
        "print('Média = ', media)\n",
        "#plt.scatter(xlabel, fo_inicial)\n",
        "plt.scatter(xlabel, fo_final)\n",
        "plt.title(\"FO em cada Iteração\", fontsize = 15, fontweight = 'bold')\n",
        "plt.xlabel(\"Iteração\", fontsize = 12, fontweight = 'bold')\n",
        "plt.ylabel(\"Função Objetivo\", fontsize = 12, fontweight = 'bold')\n",
        "plt.yticks(fontweight='bold')\n",
        "plt.show()"
      ],
      "execution_count": null,
      "outputs": []
    }
  ]
}