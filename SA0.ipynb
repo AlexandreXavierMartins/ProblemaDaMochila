{
  "nbformat": 4,
  "nbformat_minor": 0,
  "metadata": {
    "colab": {
      "name": "SA0.ipynb",
      "provenance": [],
      "authorship_tag": "ABX9TyN9dZOF1UoT4Z1sOEYe7OxB",
      "include_colab_link": true
    },
    "kernelspec": {
      "name": "python3",
      "display_name": "Python 3"
    },
    "language_info": {
      "name": "python"
    }
  },
  "cells": [
    {
      "cell_type": "markdown",
      "metadata": {
        "id": "view-in-github",
        "colab_type": "text"
      },
      "source": [
        "<a href=\"https://colab.research.google.com/github/AlexandreXavierMartins/ProblemaDaMochila/blob/main/SA0.ipynb\" target=\"_parent\"><img src=\"https://colab.research.google.com/assets/colab-badge.svg\" alt=\"Open In Colab\"/></a>"
      ]
    },
    {
      "cell_type": "code",
      "metadata": {
        "id": "ZCHD9S3D5l9q"
      },
      "source": [
        "import numpy as np\n",
        "import math\n",
        "import matplotlib.pyplot as plt\n",
        "\n",
        "  \n",
        "def gera_sol(s, n, taxa):\n",
        "  for i in range(n):\n",
        "    x = np.random.random()\n",
        "    if x < taxa:\n",
        "      s[i] = 1\n",
        "  return s\n",
        "\n",
        "\n",
        "def calcula_fo(b, p, s, n, cap, pena):\n",
        "  fo = 0\n",
        "  pt = 0\n",
        "  for i in range(n):\n",
        "    fo = fo + s[i]*b[i]\n",
        "    pt = pt + s[i]*p[i]\n",
        "  if pt > cap:\n",
        "    #print('Solução inviável')\n",
        "    fo = fo -pena*(pt - cap)\n",
        "  return fo\n",
        "\n",
        "#DADOS DO PROBLEMA-------------------#\n",
        "n = 8 #Quantidade de objetos\n",
        "beneficio = [4, 3, 2, 6, 2, 3, 5, 4]\n",
        "peso =      [5, 4, 3, 9, 4, 2, 6, 7]\n",
        "cap = 20 #Capacidade da mochila\n",
        "#------------------------------------#\n",
        "#ESTATÍSTICAS------------------------#\n",
        "fo_final = []\n",
        "xlabel = []\n",
        "media = 0\n",
        "#------------------------------------#\n",
        "#PARÂMETROS--------------------------#\n",
        "penalidade = 2 #Penalidade por solução inviável\n",
        "alpha = 0.90    #Taxa de Resfriamento (0,1)\n",
        "SAmax = 2*n\n",
        "Temperatura = 100\n",
        "taxa = 0.5\n",
        "#------------------------------------#\n",
        "experimentos = 20\n",
        "for seed in range(experimentos):\n",
        "  xlabel.append(seed)\n",
        "  #Inicializa a solução e estabelece a Temperatura inicial\n",
        "  #para cada iteração em SAmax iterações faz um mov. aleatório e verifica se será aceito\n",
        "  #Ao fim de SAmax iterações atualiza a temperatura  \n",
        "  \n",
        "    \n",
        "  #Em cada experimento pega o melhor objetivo  \n",
        "  media = media + fo_star\n",
        "  fo_final.append(fo_star)\n",
        "\n",
        "media = media/experimentos\n",
        "#print('Melhor solução = ', fo_star)\n",
        "#print('Melhor iteração =', best_iter)\n",
        "print('Média = ', media)\n",
        "#plt.scatter(xlabel, fo_inicial)\n",
        "plt.scatter(xlabel, fo_final)\n",
        "plt.title(\"FO em cada Iteração\", fontsize = 15, fontweight = 'bold')\n",
        "plt.xlabel(\"Iteração\", fontsize = 12, fontweight = 'bold')\n",
        "plt.ylabel(\"Função Objetivo\", fontsize = 12, fontweight = 'bold')\n",
        "plt.yticks(fontweight='bold')\n",
        "plt.show()"
      ],
      "execution_count": null,
      "outputs": []
    }
  ]
}