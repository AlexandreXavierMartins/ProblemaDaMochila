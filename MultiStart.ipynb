{
  "nbformat": 4,
  "nbformat_minor": 0,
  "metadata": {
    "colab": {
      "name": "MultiStart.ipynb",
      "provenance": [],
      "authorship_tag": "ABX9TyPoZdduKWrzYRA38NsXQZ3O",
      "include_colab_link": true
    },
    "kernelspec": {
      "name": "python3",
      "display_name": "Python 3"
    },
    "language_info": {
      "name": "python"
    }
  },
  "cells": [
    {
      "cell_type": "markdown",
      "metadata": {
        "id": "view-in-github",
        "colab_type": "text"
      },
      "source": [
        "<a href=\"https://colab.research.google.com/github/AlexandreXavierMartins/ProblemaDaMochila/blob/main/MultiStart.ipynb\" target=\"_parent\"><img src=\"https://colab.research.google.com/assets/colab-badge.svg\" alt=\"Open In Colab\"/></a>"
      ]
    },
    {
      "cell_type": "markdown",
      "metadata": {
        "id": "GrIN3woDC9Mi"
      },
      "source": [
        "Implementação do Multi-Start aplicado ao Problema da Mochila.\n",
        "Precisamos criar um método para gerar soluções aleatórias\n",
        "\n"
      ]
    },
    {
      "cell_type": "code",
      "metadata": {
        "colab": {
          "base_uri": "https://localhost:8080/"
        },
        "id": "l2DSd7AMC-xB",
        "outputId": "9a59599e-999a-4455-ed9a-da2ad9033880"
      },
      "source": [
        "import numpy as np\n",
        "import copy\n",
        "\n",
        "def gera_sol_rand(sol):\n",
        "  for i in range(len(sol)):\n",
        "    x = np.random.randint(0, 2)\n",
        "    sol[i] = x\n",
        "  return sol\n",
        "\n",
        "def calcula_fo(n, sol, cap, b, p):\n",
        "    fo = 0 #Valor da Função Objetivo\n",
        "    c = 0  #Peso atual da mochila\n",
        "    for i in range(n):\n",
        "        fo = fo + sol[i]*b[i]\n",
        "        c = c + sol[i]*p[i]\n",
        "    if c > cap:\n",
        "        fo = -1*c\n",
        "    return fo\n",
        "\n",
        "def busca_local_1bit(n, sol, cap, b, p):\n",
        "  melhorou = 1\n",
        "  fo = calcula_fo(n, sol, cap, beneficio, peso)\n",
        "  #print(\"Solução inicial = \", fo)\n",
        "  while melhorou:\n",
        "    melhorou = 0\n",
        "    melhor_delta = 0\n",
        "    for i in range(n):\n",
        "      sol[i] = 1 - sol[i] #troca o bit\n",
        "      nova_fo = calcula_fo(n, sol, cap, beneficio, peso)\n",
        "      sol[i] = 1 - sol[i] #destroca o bit\n",
        "      delta = nova_fo - fo\n",
        "      if delta > melhor_delta:\n",
        "        melhor_delta = delta\n",
        "        melhor_i = i\n",
        "      #fim if\n",
        "    #fim for\n",
        "    if melhor_delta > 0:\n",
        "      melhorou = 1\n",
        "      fo = fo + melhor_delta\n",
        "      #print(\"Nova solução = \", fo)\n",
        "      sol[melhor_i] = 1 - sol[melhor_i]\n",
        "    #fim if\n",
        "  #fim while\n",
        "  return fo\n",
        "\n",
        "\n",
        "\n",
        "n = 8 #Quantidade de objetos\n",
        "beneficio = [4, 3, 2, 6, 2, 3, 5, 4]\n",
        "peso =      [5, 4, 3, 9, 4, 2, 6, 7]\n",
        "cap = 20 #Capacidade da mochila\n",
        "\n",
        "#Inicializa os vetores de soluções\n",
        "sol = [0]*n\n",
        "sol_star = [0]*n\n",
        "\n",
        "\n",
        "#Parâmetros\n",
        "IterMax = 10\n",
        "semente = 1000\n",
        "np.random.seed(semente)\n",
        "\n",
        "\n",
        "fo_star = - np.inf #Valor da melhor solução (menos infinito)\n",
        "iter = 0\n",
        "while iter < IterMax: #Critério de parada\n",
        "  iter = iter +1\n",
        "  sol = gera_sol_rand(sol, taxa) #Gera Solução\n",
        "  fo = busca_local_1bit(n, sol, cap, beneficio, peso) #Aplica a busca local\n",
        "  if fo > fo_star: \n",
        "    #Atualiza a solução e imprime\n",
        "    fo_star = fo\n",
        "    sol_star = copy.deepcopy(sol)\n",
        "    print(\"Iteração = \", iter)\n",
        "    print(\"Função Objetivo = \", fo_star)\n",
        "    print(sol_star)\n"
      ],
      "execution_count": 16,
      "outputs": [
        {
          "output_type": "stream",
          "text": [
            "Iteração =  1\n",
            "Função Objetivo =  13\n",
            "[1, 1, 0, 0, 1, 0, 0, 1]\n",
            "Iteração =  2\n",
            "Função Objetivo =  15\n",
            "[1, 0, 1, 1, 0, 1, 0, 0]\n",
            "Iteração =  3\n",
            "Função Objetivo =  16\n",
            "[0, 0, 1, 1, 0, 1, 1, 0]\n",
            "[1, 1, 0, 0, 1, 0, 1, 0]\n",
            "[0, 0, 1, 1, 0, 1, 1, 0]\n"
          ],
          "name": "stdout"
        }
      ]
    }
  ]
}
