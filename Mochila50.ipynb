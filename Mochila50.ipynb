{
  "nbformat": 4,
  "nbformat_minor": 0,
  "metadata": {
    "colab": {
      "provenance": [],
      "authorship_tag": "ABX9TyPi37U5H9PZro60deNGa7iA",
      "include_colab_link": true
    },
    "kernelspec": {
      "name": "python3",
      "display_name": "Python 3"
    },
    "language_info": {
      "name": "python"
    }
  },
  "cells": [
    {
      "cell_type": "markdown",
      "metadata": {
        "id": "view-in-github",
        "colab_type": "text"
      },
      "source": [
        "<a href=\"https://colab.research.google.com/github/AlexandreXavierMartins/ProblemaDaMochila/blob/main/Mochila50.ipynb\" target=\"_parent\"><img src=\"https://colab.research.google.com/assets/colab-badge.svg\" alt=\"Open In Colab\"/></a>"
      ]
    },
    {
      "cell_type": "code",
      "execution_count": null,
      "metadata": {
        "id": "lP4sTq9HTdgy"
      },
      "outputs": [],
      "source": [
        "n = 50\n",
        "beneficio = [11, 9, 9, 9, 9, 2, 11, 12, 14, 9, 9, 11, 10, 13, 13, 8, 12, 6, 11, 7, 14, 12, 8, 14, 8, 6, 9, 6, 5, 9, 9, 6, 15, 9, 8, 3, 7, 7, 14, 7, 8, 9, 10, 13, 8, 8, 9, 13, 10, 5]\n",
        "peso = [4, 8, 12, 11, 12, 11, 8, 5, 6, 6, 12, 7, 9, 11, 10, 14, 3, 9, 13, 10, 6, 10, 9, 8, 9, 5, 7, 7, 9, 10, 8, 12, 10, 8, 1, 11, 8, 10, 14, 8, 7, 11, 16, 11, 12, 7, 14, 8, 10, 10]\n"
      ]
    }
  ]
}