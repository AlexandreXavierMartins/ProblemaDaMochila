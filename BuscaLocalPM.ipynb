{
  "nbformat": 4,
  "nbformat_minor": 0,
  "metadata": {
    "colab": {
      "name": "BuscaLocalPM",
      "provenance": [],
      "authorship_tag": "ABX9TyNUvASHwPF+gCprB1oy7YqJ",
      "include_colab_link": true
    },
    "kernelspec": {
      "name": "python3",
      "display_name": "Python 3"
    },
    "language_info": {
      "name": "python"
    }
  },
  "cells": [
    {
      "cell_type": "markdown",
      "metadata": {
        "id": "view-in-github",
        "colab_type": "text"
      },
      "source": [
        "<a href=\"https://colab.research.google.com/github/AlexandreXavierMartins/ProblemaDaMochila/blob/main/BuscaLocalPM.ipynb\" target=\"_parent\"><img src=\"https://colab.research.google.com/assets/colab-badge.svg\" alt=\"Open In Colab\"/></a>"
      ]
    },
    {
      "cell_type": "markdown",
      "metadata": {
        "id": "nI1za229sI-S"
      },
      "source": [
        "Neste código, no calculo da FO se a solução for inviável o procedimento retornará um valor negativo. Dessa forma, a busca irá funcionar mesmo se a solução inicial for inviável."
      ]
    },
    {
      "cell_type": "code",
      "metadata": {
        "id": "w2XRe3CmmUqo",
        "colab": {
          "base_uri": "https://localhost:8080/"
        },
        "outputId": "e0a34836-34a8-430e-bb4d-4f102e19ca91"
      },
      "source": [
        "def calcula_fo(n, sol, cap, b, p):\n",
        "    fo = 0 #Valor da Função Objetivo\n",
        "    c = 0  #Peso atual da mochila\n",
        "    for i in range(n):\n",
        "        fo = fo + sol[i]*b[i]\n",
        "        c = c + sol[i]*p[i]\n",
        "    if c > cap:\n",
        "        fo = -1*c\n",
        "    return fo\n",
        "\n",
        "def busca_local_1bit(n, sol, cap, b, p):\n",
        "  melhorou = 1\n",
        "  fo = calcula_fo(n, sol, cap, beneficio, peso)\n",
        "  print(\"Solução inicial = \", fo)\n",
        "  while melhorou:\n",
        "    melhorou = 0\n",
        "    melhor_delta = 0\n",
        "    for i in range(n):\n",
        "      sol[i] = 1 - sol[i] #troca o bit\n",
        "      nova_fo = calcula_fo(n, sol, cap, beneficio, peso)\n",
        "      sol[i] = 1 - sol[i] #destroca o bit\n",
        "      delta = nova_fo - fo\n",
        "      if delta > melhor_delta:\n",
        "        melhor_delta = delta\n",
        "        melhor_i = i\n",
        "      #fim if\n",
        "    #fim for\n",
        "    if melhor_delta > 0:\n",
        "      melhorou = 1\n",
        "      fo = fo + melhor_delta\n",
        "      print(\"Nova solução = \", fo)\n",
        "      sol[melhor_i] = 1 - sol[melhor_i]\n",
        "    #fim if\n",
        "  #fim while\n",
        "  return fo  \n",
        "\n",
        "n = 8 #Quantidade de objetos\n",
        "beneficio = [4, 3, 2, 6, 2, 3, 5, 4]\n",
        "peso =      [5, 4, 3, 9, 4, 2, 6, 7]\n",
        "cap = 20 #Capacidade da mochila\n",
        "\n",
        "#Solução Inicial\n",
        "sol = [0, 0, 0, 0, 0, 0, 0, 0] #Solução\n",
        "#sol = [1, 1, 1, 1, 1, 1, 1, 1] #Solução\n",
        "\n",
        "\n",
        "fo = busca_local_1bit(n, sol, cap, beneficio, peso)\n",
        "print(sol)"
      ],
      "execution_count": 10,
      "outputs": [
        {
          "output_type": "stream",
          "text": [
            "Solução inicial =  -40\n",
            "Nova solução =  -31\n",
            "Nova solução =  -24\n",
            "Nova solução =  17\n",
            "[1, 1, 1, 0, 0, 1, 1, 0]\n"
          ],
          "name": "stdout"
        }
      ]
    }
  ]
}