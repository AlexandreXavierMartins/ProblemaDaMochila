{
  "nbformat": 4,
  "nbformat_minor": 0,
  "metadata": {
    "colab": {
      "name": "Untitled6.ipynb",
      "provenance": [],
      "authorship_tag": "ABX9TyPa4O5cpGCxrkRHiO+Vhu7u",
      "include_colab_link": true
    },
    "kernelspec": {
      "name": "python3",
      "display_name": "Python 3"
    },
    "language_info": {
      "name": "python"
    }
  },
  "cells": [
    {
      "cell_type": "markdown",
      "metadata": {
        "id": "view-in-github",
        "colab_type": "text"
      },
      "source": [
        "<a href=\"https://colab.research.google.com/github/AlexandreXavierMartins/ProblemaDaMochila/blob/main/PlanProd.ipynb\" target=\"_parent\"><img src=\"https://colab.research.google.com/assets/colab-badge.svg\" alt=\"Open In Colab\"/></a>"
      ]
    },
    {
      "cell_type": "code",
      "metadata": {
        "id": "2jGKmAz4rgmI"
      },
      "source": [
        "!pip install pulp"
      ],
      "execution_count": null,
      "outputs": []
    },
    {
      "cell_type": "markdown",
      "metadata": {
        "id": "Mkqs0bzwrss5"
      },
      "source": [
        "Planejamento de Produção"
      ]
    },
    {
      "cell_type": "code",
      "metadata": {
        "id": "pb9BZDxWrte1"
      },
      "source": [
        "import pulp as pl\n",
        "\n",
        "model = pl.LpProblem('PlanProd', pl.LpMaximize)\n",
        "\n",
        "#Variáveis de decisão\n",
        "x1 = pl.LpVariable('Prod1', lowBound = 0)\n",
        "x2 = pl.LpVariable('Prod2', lowBound = 0)\n",
        "x3 = pl.LpVariable('Prod3', lowBound = 0)\n",
        "x4 = pl.LpVariable('Prod4', lowBound = 0)\n",
        "\n",
        "\n",
        "#Restrições\n",
        "model += 5*x1 + 4*x2 + 8*x3 + 9*x4 <= 80\n",
        "model += 2*x1 + 6*x2 + 0*x3 + 8*x4 <= 20\n",
        "\n",
        "model += 2*x1 + 4*x2 + 2*x3 + 8*x4 <= 120\n",
        "model += 7*x1 + 3*x2 + 0*x3 + 7*x4 <= 160\n",
        "\n",
        "#Função Objetivo\n",
        "model += 10*x1 + 8*x2 + 9*x3 + 7*x4\n",
        "\n",
        "#display(model) #Apresenta o modelo na tela\n",
        "\n",
        "status = model.solve()\n",
        "\n",
        "fo = pl.value(model.objective)\n",
        "val1 = pl.value(x1)\n",
        "val2 = pl.value(x2)\n",
        "val3 = pl.value(x3)\n",
        "val4 = pl.value(x4)\n",
        "\n",
        "print(\"Lucro máximo = \", fo)\n",
        "print(\"x1 = \", val1)\n",
        "print(\"x2 = \", val2)\n",
        "print(\"x3 = \", val3)\n",
        "print(\"x4 = \", val4)\n"
      ],
      "execution_count": null,
      "outputs": []
    }
  ]
}