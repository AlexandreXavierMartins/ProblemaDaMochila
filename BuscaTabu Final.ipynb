{
  "nbformat": 4,
  "nbformat_minor": 0,
  "metadata": {
    "colab": {
      "name": "BuscaTabu.ipynb",
      "provenance": [],
      "authorship_tag": "ABX9TyMSMbu1AjMfOm2DtppRIsw4",
      "include_colab_link": true
    },
    "kernelspec": {
      "name": "python3",
      "display_name": "Python 3"
    },
    "language_info": {
      "name": "python"
    }
  },
  "cells": [
    {
      "cell_type": "markdown",
      "metadata": {
        "id": "view-in-github",
        "colab_type": "text"
      },
      "source": [
        "<a href=\"https://colab.research.google.com/github/AlexandreXavierMartins/ProblemaDaMochila/blob/main/BuscaTabu%20Final.ipynb\" target=\"_parent\"><img src=\"https://colab.research.google.com/assets/colab-badge.svg\" alt=\"Open In Colab\"/></a>"
      ]
    },
    {
      "cell_type": "code",
      "metadata": {
        "colab": {
          "base_uri": "https://localhost:8080/",
          "height": 317
        },
        "id": "WcUm_OPjzD3T",
        "outputId": "baa41cfe-160e-41aa-8a7d-01284a1c34c0"
      },
      "source": [
        "import numpy as np\n",
        "import math\n",
        "import matplotlib.pyplot as plt\n",
        "\n",
        "def busca_tabu(s, fo, b, p, n, pena, Tam, iter_max, cap):\n",
        "  #Inicializa\n",
        "  fo_star = fo\n",
        "  s_star = n*[0]\n",
        "  for i in range(n):\n",
        "    s_star[i] = s[i]\n",
        "  iter = 0\n",
        "  best_iter = 0\n",
        "  Lista = []\n",
        "  #Enquanto critério Procura melhor vizinho\n",
        "  while iter - best_iter < iter_max:\n",
        "    iter = iter + 1;\n",
        "    best_i = -1\n",
        "    best_delta = -math.inf\n",
        "    #print('Solução = ', s)\n",
        "    for i in range(n):\n",
        "      s[i] = 1 - s[i]\n",
        "      f = calcula_fo(b, p, s, n, cap, pena)\n",
        "      s[i] = 1 - s[i]\n",
        "      delta = f - fo\n",
        "      if delta > best_delta:\n",
        "        if Lista.count(i) == 0:\n",
        "          best_delta = delta\n",
        "          best_i = i\n",
        "        else:\n",
        "          if f > fo_star:\n",
        "            best_delta = delta\n",
        "            best_i = i\n",
        "    \n",
        "    if best_i == -1:\n",
        "      return print('Erro')\n",
        "#Atualiza a Lista tabu\n",
        "    #print('Best i = ', best_i)\n",
        "    #print('Best delta = ', best_delta)\n",
        "    Lista.append(best_i)\n",
        "    if(len(Lista) > Tam):\n",
        "      Lista.pop(0)\n",
        "    #print(Lista)\n",
        "    s[best_i] = 1 -s[best_i]\n",
        "    fo = fo + best_delta\n",
        "    if fo > fo_star:\n",
        "      #print('Melhorou! Sol = ', fo)\n",
        "      fo_star = fo\n",
        "      best_iter = iter\n",
        "      for i in range(n):\n",
        "        s_star[i] = s[i]\n",
        "\n",
        "  return fo_star, s_star\n",
        "  #Verifica se atualiza melhor solução\n",
        "  #Retorna a melhor solução\n",
        "\n",
        "\n",
        "def gera_sol(s, n, taxa):\n",
        "  for i in range(n):\n",
        "    x = np.random.random()\n",
        "    if x < taxa:\n",
        "      s[i] = 1\n",
        "  return s\n",
        "\n",
        "def calcula_fo(b, p, s, n, cap, pena):\n",
        "  fo = 0\n",
        "  pt = 0\n",
        "  for i in range(n):\n",
        "    fo = fo + s[i]*b[i]\n",
        "    pt = pt + s[i]*p[i]\n",
        "  if pt > cap:\n",
        "    #print('Solução inviável')\n",
        "    fo = fo -pena*(pt - cap)\n",
        "  return fo\n",
        "\n",
        "#DADOS DO PROBLEMA-------------------#\n",
        "n = 8 #Quantidade de objetos\n",
        "beneficio = [4, 3, 2, 6, 2, 3, 5, 4]\n",
        "peso =      [5, 4, 3, 9, 4, 2, 6, 7]\n",
        "cap = 20 #Capacidade da mochila\n",
        "#------------------------------------#\n",
        "#ESTATÍSTICAS------------------------#\n",
        "fo_inicial = []\n",
        "fo_final = []\n",
        "xlabel = []\n",
        "media = 0\n",
        "#------------------------------------#\n",
        "#PARÂMETROS--------------------------#\n",
        "penalidade = 2 #Penalidade por solução inviável\n",
        "taxa = 0.50    #Taxa para gerar sol. inicial, deve ser entre (0,1)\n",
        "\n",
        "itermax = 20\n",
        "Tam = int(n/2)+1\n",
        "#------------------------------------#\n",
        "\n",
        "experimentos = 20\n",
        "for seed in range(experimentos):\n",
        "  xlabel.append(seed)\n",
        "  sol_star = n*[0]\n",
        "  fo_star = -math.inf \n",
        "  np.random.seed(seed)\n",
        "  sol = n*[0] #Vetor para guardar a Solução\n",
        "  gera_sol(sol, n, taxa)\n",
        "  fo = calcula_fo(beneficio, peso, sol, n, cap, penalidade)\n",
        "  for i in range(n):\n",
        "    sol_star[i] = sol[i]\n",
        "  fo_star = fo\n",
        "  fo_star, sol_star = busca_tabu(sol, fo, beneficio, peso, n, penalidade, Tam, itermax, cap)\n",
        "\n",
        "\n",
        "  media = media + fo_star\n",
        "  fo_final.append(fo_star)\n",
        "\n",
        "media = media/experimentos\n",
        "#print('Melhor solução = ', fo_star)\n",
        "#print('Melhor iteração =', best_iter)\n",
        "print('Média = ', media)\n",
        "#plt.scatter(xlabel, fo_inicial)\n",
        "plt.scatter(xlabel, fo_final)\n",
        "plt.title(\"FO em cada Iteração\", fontsize = 15, fontweight = 'bold')\n",
        "plt.xlabel(\"Iteração\", fontsize = 12, fontweight = 'bold')\n",
        "plt.ylabel(\"Função Objetivo\", fontsize = 12, fontweight = 'bold')\n",
        "plt.yticks(fontweight='bold')\n",
        "plt.show()"
      ],
      "execution_count": 10,
      "outputs": [
        {
          "output_type": "stream",
          "name": "stdout",
          "text": [
            "Média =  16.85\n"
          ]
        },
        {
          "output_type": "display_data",
          "data": {
            "image/png": "[encoded data removed]",
            "text/plain": [
              "<Figure size 432x288 with 1 Axes>"
            ]
          },
          "metadata": {
            "needs_background": "light"
          }
        }
      ]
    }
  ]
}