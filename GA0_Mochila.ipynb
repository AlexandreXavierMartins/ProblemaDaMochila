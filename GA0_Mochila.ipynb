{
  "nbformat": 4,
  "nbformat_minor": 0,
  "metadata": {
    "colab": {
      "provenance": [],
      "authorship_tag": "ABX9TyMkpXTqP3dNukkWLPupDb2M",
      "include_colab_link": true
    },
    "kernelspec": {
      "name": "python3",
      "display_name": "Python 3"
    },
    "language_info": {
      "name": "python"
    }
  },
  "cells": [
    {
      "cell_type": "markdown",
      "metadata": {
        "id": "view-in-github",
        "colab_type": "text"
      },
      "source": [
        "<a href=\"https://colab.research.google.com/github/AlexandreXavierMartins/ProblemaDaMochila/blob/main/GA0_Mochila.ipynb\" target=\"_parent\"><img src=\"https://colab.research.google.com/assets/colab-badge.svg\" alt=\"Open In Colab\"/></a>"
      ]
    },
    {
      "cell_type": "code",
      "metadata": {
        "id": "MBLHsvUvl0si"
      },
      "source": [
        "!pip install ypstruct"
      ],
      "execution_count": null,
      "outputs": []
    },
    {
      "cell_type": "code",
      "metadata": {
        "id": "nZkorgI3iowf"
      },
      "source": [
        "\n",
        "import numpy as np\n",
        "import math\n",
        "import matplotlib.pyplot as plt\n",
        "from ypstruct import structure\n",
        "\n",
        "def calcula_fo(b, p, s, n, cap, pena):\n",
        "  fo = 0\n",
        "  pt = 0\n",
        "  for i in range(n):\n",
        "    fo = fo + s[i]*b[i]\n",
        "    pt = pt + s[i]*p[i]\n",
        "  if pt > cap:\n",
        "    #print('Solução inviável')\n",
        "    fo = fo -pena*(pt - cap)\n",
        "  return fo\n",
        "\n",
        "def gera_sol(sol):\n",
        "  for i in range(len(sol)):\n",
        "    sol[i] = np.random.randint(0,2)\n",
        "  return sol\n",
        "\n",
        "#Primeira metade do p1 e segunda de p2\n",
        "def crossover(p1, p2, n):\n",
        "  filho = p2.deepcopy()\n",
        "  for i in range(n//2):\n",
        "    filho.sol[i] = p1.sol[i]\n",
        "  return filho\n",
        "\n",
        "\n",
        "#DADOS DO PROBLEMA-------------------#\n",
        "n = 8 #Quantidade de objetos\n",
        "beneficio = [4, 3, 2, 6, 2, 3, 5, 4]\n",
        "peso =      [5, 4, 3, 9, 4, 2, 6, 7]\n",
        "cap = 20 #Capacidade da mochila\n",
        "#------------------------------------#\n",
        "#ESTATÍSTICAS------------------------#\n",
        "fo_inicial = []\n",
        "fo_final = []\n",
        "xlabel = []\n",
        "media = 0\n",
        "#------------------------------------#\n",
        "#PARÂMETROS--------------------------#\n",
        "penalidade = 2 #Penalidade por solução inviável\n",
        "maxit = 10\n",
        "npop = 20\n",
        "mutation = 0.05\n",
        "#------------------------------------#\n",
        "\n",
        "experimentos = 1\n",
        "#Estrutura da Solução\n",
        "cromossomo = structure()\n",
        "cromossomo.sol = None #Vetor com a solução\n",
        "cromossomo.fo = None #Função objetivo de cada solução\n",
        "\n",
        "for seed in range(experimentos):\n",
        "  xlabel.append(seed)\n",
        "  np.random.seed(seed)\n",
        "  #Cria um indivíduo que guarda a melhor solução\n",
        "  \n",
        "  \n",
        "  #Geração Inicial e atualiza melhor solução\n",
        "  \n",
        "  #LOOP\n",
        "  for it in range(maxit):\n",
        "    #Cruzamento\n",
        "    \n",
        "      #Seleciona Pais\n",
        "      #realiza o cruzamento\n",
        "      #Mutação\n",
        "      #Calcula a FO e add na população\n",
        "    #Fim do Cruzamento e Mutação\n",
        "\n",
        "    #Junta, Ordena e Seleciona\n",
        "    \n",
        "    #Atualiza melhor solução se melhorou\n",
        "\n",
        "\n",
        "  \n",
        "  media = media + bestsol.fo\n",
        "  fo_final.append(bestsol.fo)\n",
        "\n",
        "media = media/experimentos\n",
        "#print('Melhor solução = ', fo_star)\n",
        "#print('Melhor iteração =', best_iter)\n",
        "print('Média = ', media)\n",
        "#plt.scatter(xlabel, fo_inicial)\n",
        "plt.scatter(xlabel, fo_final)\n",
        "plt.title(\"FO em cada Iteração\", fontsize = 15, fontweight = 'bold')\n",
        "plt.xlabel(\"Iteração\", fontsize = 12, fontweight = 'bold')\n",
        "plt.ylabel(\"Função Objetivo\", fontsize = 12, fontweight = 'bold')\n",
        "plt.yticks(fontweight='bold')\n",
        "plt.show()\n"
      ],
      "execution_count": null,
      "outputs": []
    }
  ]
}