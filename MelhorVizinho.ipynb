{
  "nbformat": 4,
  "nbformat_minor": 0,
  "metadata": {
    "colab": {
      "name": "MelhorVizinho.ipynb",
      "provenance": [],
      "authorship_tag": "ABX9TyM9qslP45Aj6uVcsqeingBX",
      "include_colab_link": true
    },
    "kernelspec": {
      "name": "python3",
      "display_name": "Python 3"
    },
    "language_info": {
      "name": "python"
    }
  },
  "cells": [
    {
      "cell_type": "markdown",
      "metadata": {
        "id": "view-in-github",
        "colab_type": "text"
      },
      "source": [
        "<a href=\"https://colab.research.google.com/github/AlexandreXavierMartins/ProblemaDaMochila/blob/main/MelhorVizinho.ipynb\" target=\"_parent\"><img src=\"https://colab.research.google.com/assets/colab-badge.svg\" alt=\"Open In Colab\"/></a>"
      ]
    },
    {
      "cell_type": "code",
      "metadata": {
        "colab": {
          "base_uri": "https://localhost:8080/"
        },
        "id": "G4JHXb87aUhe",
        "outputId": "b969e7b5-f32d-4072-d4f6-a9a49a4deed2"
      },
      "source": [
        "def melhor_vizinho(sol, n, b, p, cap):\n",
        "  fo = 0\n",
        "  peso_atual = 0\n",
        "  for i in range(n):\n",
        "    fo = fo + sol[i]*b[i]\n",
        "    peso_atual = peso_atual + sol[i]*p[i]\n",
        "\n",
        "  print('Solução inicial = ', fo)\n",
        "\n",
        "  melhor = -1\n",
        "  best_i = -1\n",
        "  for i in range(n):\n",
        "    if sol[i] == 0:\n",
        "      if peso_atual + p[i] <= cap and fo + b[i] > melhor:\n",
        "        melhor = fo + b[i]\n",
        "        best_i = i\n",
        "    else:\n",
        "      if fo - b[i] > melhor:\n",
        "        melhor = fo - b[i]\n",
        "        best_i = i\n",
        "  \n",
        "  if melhor > 0:\n",
        "    print('Valor do melhor vizinho = ', melhor)\n",
        "    print('Melhor vizinho = ', best_i)\n",
        "    if melhor > fo:\n",
        "      if sol[best_i] == 0:\n",
        "        sol[best_i] = 1\n",
        "        fo = melhor\n",
        "      else:\n",
        "        sol[best_i] = 0\n",
        "        fo = melhor\n",
        "      return sol\n",
        "    else:\n",
        "      return print('Ótimo Local')\n",
        "\n",
        "\n",
        "\n",
        "\n",
        "\n",
        "n = 8 #Quantidade de objetos\n",
        "beneficio = [4, 3, 2, 6, 2, 3, 5, 4]\n",
        "peso =      [5, 4, 3, 9, 4, 2, 6, 7]\n",
        "cap = 20 #Capacidade da mochila\n",
        "\n",
        "sol = [1, 0, 0, 1, 0, 0, 1, 0] #Solução\n",
        "\n",
        "melhor_vizinho(sol, n, beneficio, peso, cap)"
      ],
      "execution_count": 9,
      "outputs": [
        {
          "output_type": "stream",
          "name": "stdout",
          "text": [
            "Solução inicial =  16\n",
            "Melhor vizinho =  2\n",
            "Com solução =  14\n",
            "Ótimo local\n"
          ]
        }
      ]
    }
  ]
}