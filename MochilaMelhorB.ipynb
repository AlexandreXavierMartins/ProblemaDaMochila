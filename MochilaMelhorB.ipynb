{
  "nbformat": 4,
  "nbformat_minor": 0,
  "metadata": {
    "colab": {
      "name": "MochilaMelhorB.ipynb",
      "provenance": [],
      "authorship_tag": "ABX9TyN5k1k9ZU3CNHfEWHMpokbN",
      "include_colab_link": true
    },
    "kernelspec": {
      "name": "python3",
      "display_name": "Python 3"
    },
    "language_info": {
      "name": "python"
    }
  },
  "cells": [
    {
      "cell_type": "markdown",
      "metadata": {
        "id": "view-in-github",
        "colab_type": "text"
      },
      "source": [
        "<a href=\"https://colab.research.google.com/github/AlexandreXavierMartins/ProblemaDaMochila/blob/main/MochilaMelhorB.ipynb\" target=\"_parent\"><img src=\"https://colab.research.google.com/assets/colab-badge.svg\" alt=\"Open In Colab\"/></a>"
      ]
    },
    {
      "cell_type": "code",
      "metadata": {
        "colab": {
          "base_uri": "https://localhost:8080/"
        },
        "id": "rY0im4IJz7hE",
        "outputId": "ee832ff6-ec9a-46e7-de46-e37c87371d64"
      },
      "source": [
        "n = 8 #Quantidade de objetos\n",
        "beneficio = [4, 3, 2, 6, 2, 3, 5, 4]\n",
        "peso =      [5, 4, 3, 9, 4, 2, 6, 7]\n",
        "cap = 20 #Capacidade da mochila\n",
        "\n",
        "sol = n*[0] #Vetor para guardar a Solução\n",
        "\n",
        "flag = 1\n",
        "pesoatual = 0\n",
        "fo = 0\n",
        "while flag == 1:\n",
        "  flag = 0\n",
        "  maior = -1\n",
        "  for i in range(n):\n",
        "    if sol[i] == 0 and beneficio[i] > maior and pesoatual + peso[i] <= cap:\n",
        "      maior = beneficio[i]\n",
        "      best_i = i\n",
        "  #fim for\n",
        "  if maior > -1:\n",
        "    flag = 1\n",
        "    sol[best_i] = 1\n",
        "    fo = fo + maior\n",
        "    pesoatual = pesoatual + peso[best_i]\n",
        "\n",
        "print(sol)\n",
        "print(fo)\n",
        "print(pesoatual)\n"
      ],
      "execution_count": 3,
      "outputs": [
        {
          "output_type": "stream",
          "name": "stdout",
          "text": [
            "[1, 0, 0, 1, 0, 0, 1, 0]\n",
            "15\n",
            "20\n"
          ]
        }
      ]
    }
  ]
}