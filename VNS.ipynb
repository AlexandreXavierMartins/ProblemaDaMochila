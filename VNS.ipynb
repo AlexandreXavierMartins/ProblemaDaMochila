{
  "nbformat": 4,
  "nbformat_minor": 0,
  "metadata": {
    "colab": {
      "name": "VNS.ipynb",
      "provenance": [],
      "authorship_tag": "ABX9TyM5ayRGnFtU3C8+iQFF8zpQ",
      "include_colab_link": true
    },
    "kernelspec": {
      "name": "python3",
      "display_name": "Python 3"
    },
    "language_info": {
      "name": "python"
    }
  },
  "cells": [
    {
      "cell_type": "markdown",
      "metadata": {
        "id": "view-in-github",
        "colab_type": "text"
      },
      "source": [
        "<a href=\"https://colab.research.google.com/github/AlexandreXavierMartins/ProblemaDaMochila/blob/main/VNS.ipynb\" target=\"_parent\"><img src=\"https://colab.research.google.com/assets/colab-badge.svg\" alt=\"Open In Colab\"/></a>"
      ]
    },
    {
      "cell_type": "code",
      "metadata": {
        "colab": {
          "base_uri": "https://localhost:8080/",
          "height": 317
        },
        "id": "A7BQ2-tr4ar9",
        "outputId": "3eedfc25-90b8-419c-bb18-7629cf06ab32"
      },
      "source": [
        "import numpy as np\n",
        "import math\n",
        "import matplotlib.pyplot as plt\n",
        "\n",
        "def busca_local(s, b, p, n, pena):\n",
        "  fo = calcula_fo(b, p, s, n, cap, pena)\n",
        "  flag = 1\n",
        "  while flag:\n",
        "    flag = 0\n",
        "    melhor, bi = melhor_vizinho(s, b, p, n, pena)\n",
        "    if melhor > fo:\n",
        "      s[bi] = 1 - s[bi]\n",
        "      fo = melhor\n",
        "      flag = 1\n",
        "      #print(s)\n",
        "      #print(fo)\n",
        "  return s, fo\n",
        "\n",
        "def melhor_vizinho(s, b, p, n, pena):\n",
        "  melhor = -math.inf\n",
        "  for i in range(n):\n",
        "    s[i] = 1 - s[i] #Troca o bit\n",
        "    f = calcula_fo(b, p, s, n, cap, pena)\n",
        "    s[i] = 1 - s[i] #destroca\n",
        "    if f > melhor:\n",
        "      melhor = f\n",
        "      bi = i\n",
        "  return melhor, bi\n",
        "   \n",
        "\n",
        "def calcula_fo(b, p, s, n, cap, pena):\n",
        "  fo = 0\n",
        "  pt = 0\n",
        "  for i in range(n):\n",
        "    fo = fo + s[i]*b[i]\n",
        "    pt = pt + s[i]*p[i]\n",
        "  if pt > cap:\n",
        "    #print('Solução inviável')\n",
        "    fo = fo -pena*(pt - cap)\n",
        "  return fo\n",
        "\n",
        "def gera_sol(s, n, taxa):\n",
        "  for i in range(n):\n",
        "    x = np.random.random()\n",
        "    if x < taxa:\n",
        "      s[i] = 1\n",
        "  return s\n",
        "\n",
        "#DADOS DO PROBLEMA-------------------#\n",
        "n = 8 #Quantidade de objetos\n",
        "beneficio = [4, 3, 2, 6, 2, 3, 5, 4]\n",
        "peso =      [5, 4, 3, 9, 4, 2, 6, 7]\n",
        "cap = 20 #Capacidade da mochila\n",
        "#------------------------------------#\n",
        "#ESTATÍSTICAS------------------------#\n",
        "fo_inicial = []\n",
        "fo_final = []\n",
        "xlabel = []\n",
        "media = 0\n",
        "#------------------------------------#\n",
        "#PARÂMETROS--------------------------#\n",
        "penalidade = 2 #Penalidade por solução inviável\n",
        "taxa = 0.5     #Taxa para gerar sol. inicial, deve ser entre (0,1)\n",
        "v = 3          #Número de vizinhanças\n",
        "#------------------------------------#\n",
        "\n",
        "experimentos = 20\n",
        "for seed in range(experimentos):\n",
        "  xlabel.append(seed)\n",
        "  np.random.seed(seed)\n",
        "  #Inicialização\n",
        "  sol_star = n*[0]\n",
        "  sol = n*[0] #Vetor para guardar a Solução\n",
        "  sol = gera_sol(sol, n, taxa)\n",
        "  fo = calcula_fo(beneficio, peso, sol, n, cap, penalidade)\n",
        "  for i in range(n):\n",
        "    sol_star[i] = sol[i]\n",
        "  fo_star = fo\n",
        "  k = 1\n",
        "  #print('Início')\n",
        "  while k <= v:\n",
        "    #print('k = ', k)\n",
        "    #Gera um vizinho aleatório\n",
        "    for i in range(k):\n",
        "      j =  np.random.randint(0, n)\n",
        "      sol[j] = 1 - sol[j]\n",
        "    #Aplica a busca local\n",
        "    sol, fo = busca_local(sol, beneficio, peso, n, penalidade)\n",
        "    #Verica se melhorou\n",
        "    if fo > fo_star:\n",
        "      #Retorna à primeira vizinhança\n",
        "      k = 1\n",
        "      fo_star = fo\n",
        "      #print('fo = ', fo)\n",
        "      for i in range(n):\n",
        "        sol_star[i] = sol[i]\n",
        "    else:\n",
        "      #Como não melhorou avança para a próxima vizinhança\n",
        "      k = k +1\n",
        "      for i in range(n):\n",
        "        #Garente que o movimento será realizado sobre a melhor solução\n",
        "        sol[i] = sol_star[i]\n",
        "\n",
        "\n",
        "  media = media + fo_star\n",
        "  fo_final.append(fo_star)\n",
        "\n",
        "media = media/experimentos\n",
        "#print('Melhor solução = ', fo_star)\n",
        "#print('Melhor iteração =', best_iter)\n",
        "print('Média = ', media)\n",
        "#plt.scatter(xlabel, fo_inicial)\n",
        "plt.scatter(xlabel, fo_final)\n",
        "plt.title(\"FO em cada Iteração\", fontsize = 15, fontweight = 'bold')\n",
        "plt.xlabel(\"Iteração\", fontsize = 12, fontweight = 'bold')\n",
        "plt.ylabel(\"Função Objetivo\", fontsize = 12, fontweight = 'bold')\n",
        "plt.yticks(fontweight='bold')\n",
        "plt.show()"
      ],
      "execution_count": null,
      "outputs": [
        {
          "output_type": "stream",
          "name": "stdout",
          "text": [
            "Média =  17.0\n"
          ]
        },
        {
          "output_type": "display_data",
          "data": {
            "image/png": "[encoded data removed]",
            "text/plain": [
              "<Figure size 432x288 with 1 Axes>"
            ]
          },
          "metadata": {
            "needs_background": "light"
          }
        }
      ]
    }
  ]
}