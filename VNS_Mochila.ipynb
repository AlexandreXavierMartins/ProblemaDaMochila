{
  "nbformat": 4,
  "nbformat_minor": 0,
  "metadata": {
    "colab": {
      "provenance": [],
      "include_colab_link": true
    },
    "kernelspec": {
      "name": "python3",
      "display_name": "Python 3"
    },
    "language_info": {
      "name": "python"
    }
  },
  "cells": [
    {
      "cell_type": "markdown",
      "metadata": {
        "id": "view-in-github",
        "colab_type": "text"
      },
      "source": [
        "<a href=\"https://colab.research.google.com/github/AlexandreXavierMartins/ProblemaDaMochila/blob/main/VNS_Mochila.ipynb\" target=\"_parent\"><img src=\"https://colab.research.google.com/assets/colab-badge.svg\" alt=\"Open In Colab\"/></a>"
      ]
    },
    {
      "cell_type": "code",
      "metadata": {
        "id": "A7BQ2-tr4ar9"
      },
      "source": [
        "import numpy as np\n",
        "import math\n",
        "import matplotlib.pyplot as plt\n",
        "\n",
        "def busca_local(s, b, p, n, pena):\n",
        "  fo = calcula_fo(b, p, s, n, cap, pena)\n",
        "  flag = 1\n",
        "  while flag:\n",
        "    flag = 0\n",
        "    melhor, bi = melhor_vizinho(s, b, p, n, pena)\n",
        "    if melhor > fo:\n",
        "      s[bi] = 1 - s[bi]\n",
        "      fo = melhor\n",
        "      flag = 1\n",
        "      #print(s)\n",
        "      #print(fo)\n",
        "  return s, fo\n",
        "\n",
        "def melhor_vizinho(s, b, p, n, pena):\n",
        "  melhor = -math.inf\n",
        "  for i in range(n):\n",
        "    s[i] = 1 - s[i] #Troca o bit\n",
        "    f = calcula_fo(b, p, s, n, cap, pena)\n",
        "    s[i] = 1 - s[i] #destroca\n",
        "    if f > melhor:\n",
        "      melhor = f\n",
        "      bi = i\n",
        "  return melhor, bi\n",
        "   \n",
        "def calcula_fo(b, p, s, n, cap, pena):\n",
        "  fo = 0\n",
        "  pt = 0\n",
        "  for i in range(n):\n",
        "    fo = fo + s[i]*b[i]\n",
        "    pt = pt + s[i]*p[i]\n",
        "  if pt > cap:\n",
        "    #print('Solução inviável')\n",
        "    fo = fo -pena*(pt - cap)\n",
        "  return fo\n",
        "\n",
        "def gera_sol(sol):\n",
        "  for i in range(len(sol)):\n",
        "    s[i] = np.random.randint(0,2)\n",
        "  return s\n",
        "\n",
        "#DADOS DO PROBLEMA-------------------#\n",
        "n = 8 #Quantidade de objetos\n",
        "beneficio = [4, 3, 2, 6, 2, 3, 5, 4]\n",
        "peso =      [5, 4, 3, 9, 4, 2, 6, 7]\n",
        "cap = 20 #Capacidade da mochila\n",
        "#------------------------------------#\n",
        "#ESTATÍSTICAS------------------------#\n",
        "fo_inicial = []\n",
        "fo_final = []\n",
        "xlabel = []\n",
        "media = 0\n",
        "#------------------------------------#\n",
        "#PARÂMETROS--------------------------#\n",
        "penalidade = 2 #Penalidade por solução inviável\n",
        "v = 3         #Número de vizinhanças\n",
        "#------------------------------------#\n",
        "\n",
        "experimentos = 1\n",
        "for seed in range(experimentos):\n",
        "  xlabel.append(seed)\n",
        "  np.random.seed(seed)\n",
        "  #Gera solução inicial, atualiza S* e define k = 1\n",
        "  #Enquanto k <= v executa o loop\n",
        "    #Gera um vizinho aleatório com k movimentos\n",
        "    #Aplica uma busca local\n",
        "    #Se melhorou atualiza S* e k = 1\n",
        "    #Senão volta s para S* e k++\n",
        "  \n",
        "  media = media + fo_star\n",
        "  fo_final.append(fo_star)\n",
        "\n",
        "media = media/experimentos\n",
        "#print('Melhor solução = ', fo_star)\n",
        "#print('Melhor iteração =', best_iter)\n",
        "print('Média = ', media)\n",
        "#plt.scatter(xlabel, fo_inicial)\n",
        "plt.scatter(xlabel, fo_final)\n",
        "plt.title(\"FO em cada Iteração\", fontsize = 15, fontweight = 'bold')\n",
        "plt.xlabel(\"Iteração\", fontsize = 12, fontweight = 'bold')\n",
        "plt.ylabel(\"Função Objetivo\", fontsize = 12, fontweight = 'bold')\n",
        "plt.yticks(fontweight='bold')\n",
        "plt.show()"
      ],
      "execution_count": null,
      "outputs": []
    }
  ]
}