{
  "nbformat": 4,
  "nbformat_minor": 0,
  "metadata": {
    "colab": {
      "provenance": [],
      "include_colab_link": true
    },
    "kernelspec": {
      "name": "python3",
      "display_name": "Python 3"
    },
    "language_info": {
      "name": "python"
    }
  },
  "cells": [
    {
      "cell_type": "markdown",
      "metadata": {
        "id": "view-in-github",
        "colab_type": "text"
      },
      "source": [
        "<a href=\"https://colab.research.google.com/github/AlexandreXavierMartins/ProblemaDaMochila/blob/main/VNS_Mochila.ipynb\" target=\"_parent\"><img src=\"https://colab.research.google.com/assets/colab-badge.svg\" alt=\"Open In Colab\"/></a>"
      ]
    },
    {
      "cell_type": "code",
      "source": [
        "import numpy as np\n",
        "\n",
        "def gera_sol(sol):\n",
        "  for i in range(len(sol)):\n",
        "    sol[i] = np.random.randint(0,2)\n",
        "  return sol\n",
        "\n",
        "def muda_k(sol, k):\n",
        "  for i in range(k):\n",
        "    j = np.random.randint(0, len(sol))\n",
        "    sol[j] = 1-sol[j]\n",
        "  return sol\n",
        "#DADOS DO PROBLEMA-------------------#\n",
        "n = 8 #Quantidade de objetos\n",
        "beneficio = [4, 3, 2, 6, 2, 3, 5, 4]\n",
        "peso =      [5, 4, 3, 9, 4, 2, 6, 7]\n",
        "cap = 20 #Capacidade da mochila\n",
        "#------------------------------------#\n",
        "\n",
        "sol = n*[0]\n",
        "sol = gera_sol(sol)\n",
        "print(sol)\n",
        "sol = muda_k(sol, 3)\n",
        "print(sol)"
      ],
      "metadata": {
        "colab": {
          "base_uri": "https://localhost:8080/"
        },
        "id": "EKknL5iLv47n",
        "outputId": "8c61dfec-d52f-46c2-f487-3cfcaae9b24b"
      },
      "execution_count": 17,
      "outputs": [
        {
          "output_type": "stream",
          "name": "stdout",
          "text": [
            "[1, 1, 0, 1, 0, 0, 0, 0]\n",
            "[1, 0, 1, 1, 1, 0, 0, 0]\n"
          ]
        }
      ]
    },
    {
      "cell_type": "code",
      "source": [
        "\n",
        "import numpy as np\n",
        "import math\n",
        "\n",
        "def gera_sol(sol, n):\n",
        "  v = (n-1)*[0]\n",
        "  for i in range(n-1):\n",
        "    v[i] = i+1\n",
        "  #Embaralha\n",
        "  v = np.random.permutation(v)\n",
        "  for i in range(1, n):\n",
        "    sol[i] = v[i-1]\n",
        "  #print(sol)\n",
        "\n",
        "def muda_k(sol, k):\n",
        "  for i in range(k):\n",
        "    j = np.random.randint(1, len(sol))\n",
        "    m = j\n",
        "    while m == j:\n",
        "      m = np.random.randint(1, len(sol))\n",
        "    aux = sol[j]\n",
        "    sol[j] = sol[m]\n",
        "    sol[m] = aux\n",
        "  return sol\n",
        "\n",
        "#DADOS DO PROBLEMA-----------------------------------------------------------------#\n",
        "#Ótimo = 63 (Tenho que conferir)\n",
        "n = 11\n",
        "tempos = [\n",
        "           [1000.0,\t1000.0,\t1000.0,\t1000.0,\t1000.0,\t1000.0,\t1000.0,\t1000.0,\t1000.0,\t1000.0,\t1000.0],\t\n",
        "           [50.0,\t1000.0,\t13.0,\t40.0,\t21.0,\t2.0,\t8.0,\t15.0,\t24.0,\t37.0,\t4.0],\t\n",
        "           [34.0,\t6.0,\t1000.0,\t14.0,\t21.0,\t31.0,\t21.0,\t12.0,\t42.0,\t1.0,\t9.0],\t\n",
        "           [48.0,\t5.0,\t43.0,\t1000.0,\t45.0,\t43.0,\t37.0,\t28.0,\t20.0,\t36.0,\t20.0],\t\n",
        "           [38.0,\t44.0,\t7.0,\t3.0,\t1000.0,\t21.0,\t24.0,\t44.0,\t48.0,\t24.0,\t4.0],\t\n",
        "           [46.0,\t11.0,\t46.0,\t25.0,\t13.0,\t1000.0,\t3.0,\t35.0,\t37.0,\t22.0,\t27.0],\t\n",
        "           [22.0,\t2.0,\t32.0,\t29.0,\t23.0,\t42.0,\t1000.0,\t10.0,\t32.0,\t33.0,\t31.0],\t\n",
        "           [41.0,\t10.0,\t15.0,\t49.0,\t44.0,\t37.0,\t5.0,\t1000.0,\t50.0,\t25.0,\t22.0],\t\n",
        "           [16.0,\t12.0,\t10.0,\t29.0,\t16.0,\t50.0,\t49.0,\t14.0,\t1000.0,\t25.0,\t49.0],\t\n",
        "           [5.0,\t19.0,\t49.0,\t6.0,\t23.0,\t8.0,\t16.0,\t46.0,\t46.0,\t1000.0,\t24.0],\t\n",
        "           [50.0,\t28.0,\t4.0,\t50.0,\t26.0,\t1.0,\t37.0,\t23.0,\t34.0,\t39.0,\t1000.0]\n",
        "           ] \n",
        "#-------------------------------------------------------------------------------#\n",
        "\n",
        "sol = n*[0]\n",
        "gera_sol(sol, n)\n",
        "print(sol)\n",
        "sol = muda_k(sol, 3)\n",
        "print(sol)\n"
      ],
      "metadata": {
        "colab": {
          "base_uri": "https://localhost:8080/"
        },
        "id": "g0PvPZDvyYIn",
        "outputId": "e986e00e-8d99-4f36-8b15-d1e3e73ab665"
      },
      "execution_count": 21,
      "outputs": [
        {
          "output_type": "stream",
          "name": "stdout",
          "text": [
            "[0, 9, 3, 7, 4, 6, 5, 10, 8, 2, 1]\n",
            "[0, 2, 3, 7, 10, 4, 5, 6, 8, 9, 1]\n"
          ]
        }
      ]
    },
    {
      "cell_type": "code",
      "metadata": {
        "id": "A7BQ2-tr4ar9"
      },
      "source": [
        "import numpy as np\n",
        "import math\n",
        "import matplotlib.pyplot as plt\n",
        "\n",
        "def busca_local(s, b, p, n, pena):\n",
        "  fo = calcula_fo(b, p, s, n, cap, pena)\n",
        "  flag = 1\n",
        "  while flag:\n",
        "    flag = 0\n",
        "    melhor, bi = melhor_vizinho(s, b, p, n, pena)\n",
        "    if melhor > fo:\n",
        "      s[bi] = 1 - s[bi]\n",
        "      fo = melhor\n",
        "      flag = 1\n",
        "      #print(s)\n",
        "      #print(fo)\n",
        "  return s, fo\n",
        "\n",
        "def melhor_vizinho(s, b, p, n, pena):\n",
        "  melhor = -math.inf\n",
        "  for i in range(n):\n",
        "    s[i] = 1 - s[i] #Troca o bit\n",
        "    f = calcula_fo(b, p, s, n, cap, pena)\n",
        "    s[i] = 1 - s[i] #destroca\n",
        "    if f > melhor:\n",
        "      melhor = f\n",
        "      bi = i\n",
        "  return melhor, bi\n",
        "   \n",
        "def calcula_fo(b, p, s, n, cap, pena):\n",
        "  fo = 0\n",
        "  pt = 0\n",
        "  for i in range(n):\n",
        "    fo = fo + s[i]*b[i]\n",
        "    pt = pt + s[i]*p[i]\n",
        "  if pt > cap:\n",
        "    #print('Solução inviável')\n",
        "    fo = fo -pena*(pt - cap)\n",
        "  return fo\n",
        "\n",
        "def gera_sol(sol):\n",
        "  for i in range(len(sol)):\n",
        "    sol[i] = np.random.randint(0,2)\n",
        "  return sol\n",
        "\n",
        "def muda_k(sol, k):\n",
        "  for i in range(k):\n",
        "    j = np.random.randint(0, len(sol))\n",
        "    sol[j] = 1-sol[j]\n",
        "  return sol\n",
        "\n",
        "#DADOS DO PROBLEMA-------------------#\n",
        "n = 8 #Quantidade de objetos\n",
        "beneficio = [4, 3, 2, 6, 2, 3, 5, 4]\n",
        "peso =      [5, 4, 3, 9, 4, 2, 6, 7]\n",
        "cap = 20 #Capacidade da mochila\n",
        "#------------------------------------#\n",
        "#ESTATÍSTICAS------------------------#\n",
        "fo_inicial = []\n",
        "fo_final = []\n",
        "xlabel = []\n",
        "media = 0\n",
        "#------------------------------------#\n",
        "#PARÂMETROS--------------------------#\n",
        "penalidade = 2 #Penalidade por solução inviável\n",
        "v = 3         #Vizinhança Máxima\n",
        "Itermax = 2*n #Número de iterações sem melhora\n",
        "#------------------------------------#\n",
        "\n",
        "experimentos = 1\n",
        "for seed in range(experimentos):\n",
        "  xlabel.append(seed)\n",
        "  np.random.seed(seed)\n",
        "  #Gera solução inicial s, atualiza S* e define k = 1\n",
        "  #Enquanto k <= v executa o loop\n",
        "    #Gera um vizinho aleatório s de s* em v(k)\n",
        "    #Aplica uma busca local em s\n",
        "    #Se melhorou atualiza S* e faz k =1\n",
        "    #senão k = k+1\n",
        "    \n",
        "     \n",
        "    \n",
        "  \n",
        "  media = media + fo_star\n",
        "  fo_final.append(fo_star)\n",
        "\n",
        "media = media/experimentos\n",
        "#print('Melhor solução = ', fo_star)\n",
        "#print('Melhor iteração =', best_iter)\n",
        "print('Média = ', media)\n",
        "#plt.scatter(xlabel, fo_inicial)\n",
        "plt.scatter(xlabel, fo_final)\n",
        "plt.title(\"FO em cada Iteração\", fontsize = 15, fontweight = 'bold')\n",
        "plt.xlabel(\"Iteração\", fontsize = 12, fontweight = 'bold')\n",
        "plt.ylabel(\"Função Objetivo\", fontsize = 12, fontweight = 'bold')\n",
        "plt.yticks(fontweight='bold')\n",
        "plt.show()"
      ],
      "execution_count": null,
      "outputs": []
    }
  ]
}