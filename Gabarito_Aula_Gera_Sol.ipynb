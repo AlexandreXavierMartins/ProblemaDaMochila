{
  "nbformat": 4,
  "nbformat_minor": 0,
  "metadata": {
    "colab": {
      "provenance": [],
      "authorship_tag": "ABX9TyNOs2zpb1BI4NPlgoqSQ66K",
      "include_colab_link": true
    },
    "kernelspec": {
      "name": "python3",
      "display_name": "Python 3"
    },
    "language_info": {
      "name": "python"
    }
  },
  "cells": [
    {
      "cell_type": "markdown",
      "metadata": {
        "id": "view-in-github",
        "colab_type": "text"
      },
      "source": [
        "<a href=\"https://colab.research.google.com/github/AlexandreXavierMartins/ProblemaDaMochila/blob/main/Gabarito_Aula_Gera_Sol.ipynb\" target=\"_parent\"><img src=\"https://colab.research.google.com/assets/colab-badge.svg\" alt=\"Open In Colab\"/></a>"
      ]
    },
    {
      "cell_type": "code",
      "execution_count": null,
      "metadata": {
        "id": "PdluypXbk5-m"
      },
      "outputs": [],
      "source": [
        "##Melhor Benefício\n",
        "\n",
        "n = 8 #Quantidade de objetos\n",
        "beneficio = [4, 3, 2, 6, 2, 3, 5, 4]\n",
        "peso =      [5, 4, 3, 9, 4, 2, 6, 7]\n",
        "cap = 20 #Capacidade da mochila\n",
        "\n",
        "sol = n*[0] #Vetor para guardar a Solução\n",
        "\n",
        "flag = 1\n",
        "pesoatual = 0\n",
        "fo = 0\n",
        "while flag == 1:\n",
        "  flag = 0\n",
        "  maior = -1\n",
        "  for i in range(n):\n",
        "    if sol[i] == 0 and beneficio[i] > maior and pesoatual + peso[i] <= cap:\n",
        "      maior = beneficio[i]\n",
        "      best_i = i\n",
        "  #fim for\n",
        "  if maior > -1:\n",
        "    flag = 1\n",
        "    sol[best_i] = 1\n",
        "    fo = fo + maior\n",
        "    pesoatual = pesoatual + peso[best_i]\n",
        "\n",
        "print(sol)\n",
        "print(fo)\n",
        "print(pesoatual)"
      ]
    },
    {
      "cell_type": "code",
      "source": [
        "##Menor Peso\n",
        "\n",
        "import math\n",
        "\n",
        "n = 8 #Quantidade de objetos\n",
        "beneficio = [4, 3, 2, 6, 2, 3, 5, 4]\n",
        "peso =      [5, 4, 3, 9, 4, 2, 6, 7]\n",
        "cap = 20 #Capacidade da mochila\n",
        "\n",
        "sol = n*[0] #Vetor para guardar a Solução\n",
        "\n",
        "flag = 1\n",
        "pesoatual = 0\n",
        "fo = 0\n",
        "while flag == 1:\n",
        "  flag = 0\n",
        "  menor = math.inf #Simula Valor infinito\n",
        "  for i in range(n):\n",
        "    if sol[i] == 0 and peso[i] < menor and pesoatual + peso[i] <= cap:\n",
        "      menor = peso[i]\n",
        "      best_i = i\n",
        "  #fim for\n",
        "  if menor < math.inf:\n",
        "    flag = 1\n",
        "    sol[best_i] = 1\n",
        "    fo = fo + beneficio[best_i]\n",
        "    pesoatual = pesoatual + menor\n",
        "\n",
        "print(sol)\n",
        "print(fo)\n",
        "print(pesoatual)"
      ],
      "metadata": {
        "id": "AJgrp3sRluXO"
      },
      "execution_count": null,
      "outputs": []
    },
    {
      "cell_type": "code",
      "source": [
        "##Melhor Custo/Benefício\n",
        "\n",
        "n = 8 #Quantidade de objetos\n",
        "beneficio = [4, 3, 2, 6, 2, 3, 5, 4]\n",
        "peso =      [5, 4, 3, 9, 4, 2, 6, 7]\n",
        "cap = 20 #Capacidade da mochila\n",
        "\n",
        "sol = n*[0] #Vetor para guardar a Solução\n",
        "custob = n*[0]\n",
        "for i in range(n):\n",
        "  custob[i] = float(beneficio[i]/peso[i])\n",
        "#print(custob)\n",
        "\n",
        "flag = 1\n",
        "pesoatual = 0\n",
        "fo = 0\n",
        "while flag == 1:\n",
        "  flag = 0\n",
        "  maior = -1\n",
        "  for i in range(n):\n",
        "    if sol[i] == 0 and custob[i] > maior and pesoatual + peso[i] <= cap:\n",
        "      maior = custob[i]\n",
        "      best_i = i\n",
        "  #fim for\n",
        "  if maior > -1:\n",
        "    flag = 1\n",
        "    sol[best_i] = 1\n",
        "    fo = fo + beneficio[best_i]\n",
        "    pesoatual = pesoatual + peso[best_i]\n",
        "\n",
        "print(sol)\n",
        "print(fo)\n",
        "print(pesoatual)"
      ],
      "metadata": {
        "id": "8Qh_DdyHl0pg"
      },
      "execution_count": null,
      "outputs": []
    },
    {
      "cell_type": "code",
      "source": [
        "#Exercício 2\n",
        "import math\n",
        "\n",
        "inf = math.inf\n",
        "\n",
        "tempos =  [\n",
        "           [inf, inf, inf, inf, inf, inf, inf],\n",
        "           [5, inf, 3, 9, 4, 2, 6],\n",
        "           [3, 3, inf, 6, 2, 3, 5],\n",
        "           [4, 9, 6, inf, 7, 2, 6],\n",
        "           [7, 4, 2, 7, inf, 4, 8],\n",
        "           [2, 2, 3, 3, 4, inf, 1],\n",
        "           [1, 6, 5, 5, 8, 1, inf]\n",
        "           ]\n",
        "#print(tempos)\n",
        "\n",
        "sol = [0, 2, 3, 1, 5, 6, 4]\n",
        "n = 7\n",
        "\n",
        "def calcula_fo(n, sol):\n",
        "  fo = 0\n",
        "  for i in range(1, n):\n",
        "    fo = fo + tempos[sol[i]][sol[i-1]]\n",
        "  return fo\n",
        "\n",
        "print(calcula_fo(n, sol))"
      ],
      "metadata": {
        "colab": {
          "base_uri": "https://localhost:8080/"
        },
        "id": "i5HWef2OnR4u",
        "outputId": "0ffeadc6-7267-40c4-d4cf-f516d87dd6d3"
      },
      "execution_count": 4,
      "outputs": [
        {
          "output_type": "stream",
          "name": "stdout",
          "text": [
            "29\n"
          ]
        }
      ]
    },
    {
      "cell_type": "code",
      "source": [
        "#Exercício 3\n",
        "import math\n",
        "\n",
        "inf = math.inf\n",
        "\n",
        "tempos =  [\n",
        "           [inf, inf, inf, inf, inf, inf, inf],\n",
        "           [5, inf, 3, 9, 4, 2, 6],\n",
        "           [3, 3, inf, 6, 2, 3, 5],\n",
        "           [4, 9, 6, inf, 7, 2, 6],\n",
        "           [7, 4, 2, 7, inf, 4, 8],\n",
        "           [2, 2, 3, 3, 4, inf, 1],\n",
        "           [1, 6, 5, 5, 8, 1, inf]\n",
        "           ]\n",
        "\n",
        "n = 7\n",
        "sol = [0]\n",
        "\n",
        "def gera_sol_greedy(n, sol):\n",
        "  col = 0 #Coluna inicial de análise\n",
        "  flag = n*[0] # Vetor que guarda as tarefas já alocadas\n",
        "  flag[0]  = 1 #Tarefa ZERO já alocada na máquina\n",
        "\n",
        "  for i in range(1, n):\n",
        "    menor = inf\n",
        "    for tarefa in range(1, n):\n",
        "      if flag[tarefa] == 0 and tempos[tarefa][col] < menor:\n",
        "        menor = tempos[tarefa][col]\n",
        "        j = tarefa\n",
        "    #Aloca a nova tarefa\n",
        "    flag[j] = 1\n",
        "    sol.append(j)\n",
        "    #Nova tarefa será nova coluna analisada para próxima alocação\n",
        "    col = j\n",
        "  return sol\n",
        "\n",
        "def calcula_fo(n, sol):\n",
        "  fo = 0\n",
        "  for i in range(1, n):\n",
        "    fo = fo + tempos[sol[i]][sol[i-1]]\n",
        "  return fo\n",
        "\n",
        "sol = gera_sol_greedy(n, sol)\n",
        "\n",
        "print(sol)\n",
        "print(calcula_fo(n, sol))\n",
        "\n"
      ],
      "metadata": {
        "id": "YiSyIzfZnqZC"
      },
      "execution_count": null,
      "outputs": []
    },
    {
      "cell_type": "code",
      "source": [
        "#Exercício 4 a)\n",
        "import numpy as np\n",
        "import copy\n",
        "\n",
        "def gera_sol_rand(sol):\n",
        "  for i in range(len(sol)):\n",
        "    x = np.random.randint(0, 2)\n",
        "    sol[i] = x\n",
        "  return sol\n",
        "\n",
        "n = 8 #Quantidade de objetos\n",
        "beneficio = [4, 3, 2, 6, 2, 3, 5, 4]\n",
        "peso =      [5, 4, 3, 9, 4, 2, 6, 7]\n",
        "cap = 20 #Capacidade da mochila\n",
        "\n",
        "#Inicializa o vetor solução\n",
        "sol = [0]*n\n",
        "\n",
        "#np.random.seed(1000) #Semente para gerar números aleatórios, se fixado gerará sempre a mesma sequência de números\n",
        "\n",
        "print(gera_sol_rand(sol))"
      ],
      "metadata": {
        "id": "u-rBZ-t7oXQP"
      },
      "execution_count": null,
      "outputs": []
    },
    {
      "cell_type": "code",
      "source": [
        "#Exercício 4 b)\n",
        "\n",
        "import numpy as np\n",
        "import copy\n",
        "\n",
        "def gera_sol_rand(sol):\n",
        "  for i in range(len(sol)):\n",
        "    x = np.random.randint(0, 2)\n",
        "    sol[i] = x\n",
        "  return sol\n",
        "\n",
        "n = 8 #Quantidade de objetos\n",
        "beneficio = [4, 3, 2, 6, 2, 3, 5, 4]\n",
        "peso =      [5, 4, 3, 9, 4, 2, 6, 7]\n",
        "cap = 20 #Capacidade da mochila\n",
        "\n",
        "#Inicializa o vetor solução\n",
        "sol = [0]*n\n",
        "\n",
        "#np.random.seed(1000) #Semente para gerar números aleatórios, se fixado gerará sempre a mesma sequência de números\n",
        "\n",
        "print(gera_sol_rand(sol))"
      ],
      "metadata": {
        "id": "ORdN2KCYohBY"
      },
      "execution_count": null,
      "outputs": []
    }
  ]
}