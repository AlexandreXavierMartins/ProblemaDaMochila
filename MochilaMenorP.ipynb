{
  "nbformat": 4,
  "nbformat_minor": 0,
  "metadata": {
    "colab": {
      "name": "MochilaMenorP.ipynb",
      "provenance": [],
      "authorship_tag": "ABX9TyNKCiWJXhK/dBBPydfbRCu8",
      "include_colab_link": true
    },
    "kernelspec": {
      "name": "python3",
      "display_name": "Python 3"
    },
    "language_info": {
      "name": "python"
    }
  },
  "cells": [
    {
      "cell_type": "markdown",
      "metadata": {
        "id": "view-in-github",
        "colab_type": "text"
      },
      "source": [
        "<a href=\"https://colab.research.google.com/github/AlexandreXavierMartins/ProblemaDaMochila/blob/main/MochilaMenorP.ipynb\" target=\"_parent\"><img src=\"https://colab.research.google.com/assets/colab-badge.svg\" alt=\"Open In Colab\"/></a>"
      ]
    },
    {
      "cell_type": "code",
      "metadata": {
        "colab": {
          "base_uri": "https://localhost:8080/"
        },
        "id": "q8KLfPdL3T7j",
        "outputId": "837d7a17-c3d1-4763-fb49-07696a3b7731"
      },
      "source": [
        "import math\n",
        "\n",
        "n = 8 #Quantidade de objetos\n",
        "beneficio = [4, 3, 2, 6, 2, 3, 5, 4]\n",
        "peso =      [5, 4, 3, 9, 4, 2, 6, 7]\n",
        "cap = 20 #Capacidade da mochila\n",
        "\n",
        "sol = n*[0] #Vetor para guardar a Solução\n",
        "\n",
        "flag = 1\n",
        "pesoatual = 0\n",
        "fo = 0\n",
        "while flag == 1:\n",
        "  flag = 0\n",
        "  menor = math.inf #Simula Valor infinito\n",
        "  for i in range(n):\n",
        "    if sol[i] == 0 and peso[i] < menor and pesoatual + peso[i] <= cap:\n",
        "      menor = peso[i]\n",
        "      best_i = i\n",
        "  #fim for\n",
        "  if menor < math.inf:\n",
        "    flag = 1\n",
        "    sol[best_i] = 1\n",
        "    fo = fo + beneficio[best_i]\n",
        "    pesoatual = pesoatual + menor\n",
        "\n",
        "print(sol)\n",
        "print(fo)\n",
        "print(pesoatual)\n"
      ],
      "execution_count": 1,
      "outputs": [
        {
          "output_type": "stream",
          "name": "stdout",
          "text": [
            "inf\n",
            "inf\n",
            "inf\n",
            "inf\n",
            "inf\n",
            "inf\n",
            "[1, 1, 1, 0, 1, 1, 0, 0]\n",
            "14\n",
            "18\n"
          ]
        }
      ]
    }
  ]
}