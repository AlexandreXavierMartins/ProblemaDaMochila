{
  "nbformat": 4,
  "nbformat_minor": 0,
  "metadata": {
    "colab": {
      "provenance": [],
      "authorship_tag": "ABX9TyO00f7L+OKq8eVIeU+DrSZx",
      "include_colab_link": true
    },
    "kernelspec": {
      "name": "python3",
      "display_name": "Python 3"
    },
    "language_info": {
      "name": "python"
    }
  },
  "cells": [
    {
      "cell_type": "markdown",
      "metadata": {
        "id": "view-in-github",
        "colab_type": "text"
      },
      "source": [
        "<a href=\"https://colab.research.google.com/github/AlexandreXavierMartins/ProblemaDaMochila/blob/main/SolRandMochila.ipynb\" target=\"_parent\"><img src=\"https://colab.research.google.com/assets/colab-badge.svg\" alt=\"Open In Colab\"/></a>"
      ]
    },
    {
      "cell_type": "code",
      "execution_count": null,
      "metadata": {
        "id": "tsl9P3739vMP"
      },
      "outputs": [],
      "source": [
        "import numpy as np\n",
        "import copy\n",
        "\n",
        "def gera_sol_rand(sol):\n",
        "  for i in range(len(sol)):\n",
        "    x = np.random.randint(0, 2)\n",
        "    sol[i] = x\n",
        "  return sol\n",
        "\n",
        "n = 8 #Quantidade de objetos\n",
        "beneficio = [4, 3, 2, 6, 2, 3, 5, 4]\n",
        "peso =      [5, 4, 3, 9, 4, 2, 6, 7]\n",
        "cap = 20 #Capacidade da mochila\n",
        "\n",
        "#Inicializa o vetor solução\n",
        "sol = [0]*n\n",
        "\n",
        "#np.random.seed(1000) #Semente para gerar números aleatórios, se fixado gerará sempre a mesma sequência de números\n",
        "\n",
        "print(gera_sol_rand(sol))"
      ]
    }
  ]
}