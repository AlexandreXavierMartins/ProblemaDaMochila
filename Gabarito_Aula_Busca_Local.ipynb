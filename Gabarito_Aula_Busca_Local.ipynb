{
  "nbformat": 4,
  "nbformat_minor": 0,
  "metadata": {
    "colab": {
      "provenance": [],
      "authorship_tag": "ABX9TyMc3lJ318h7zhzfeyrdBiWw",
      "include_colab_link": true
    },
    "kernelspec": {
      "name": "python3",
      "display_name": "Python 3"
    },
    "language_info": {
      "name": "python"
    }
  },
  "cells": [
    {
      "cell_type": "markdown",
      "metadata": {
        "id": "view-in-github",
        "colab_type": "text"
      },
      "source": [
        "<a href=\"https://colab.research.google.com/github/AlexandreXavierMartins/ProblemaDaMochila/blob/main/Gabarito_Aula_Busca_Local.ipynb\" target=\"_parent\"><img src=\"https://colab.research.google.com/assets/colab-badge.svg\" alt=\"Open In Colab\"/></a>"
      ]
    },
    {
      "cell_type": "code",
      "execution_count": 1,
      "metadata": {
        "colab": {
          "base_uri": "https://localhost:8080/"
        },
        "id": "GLsRQj9CjKvN",
        "outputId": "1575311f-b230-4370-9770-36c04846b449"
      },
      "outputs": [
        {
          "output_type": "stream",
          "name": "stdout",
          "text": [
            "-11\n"
          ]
        }
      ],
      "source": [
        "#Exercício 1\n",
        "def get_fo(sol, beneficio, peso, cap, pena):\n",
        "  fo = 0\n",
        "  peso_total = 0\n",
        "  for i in range(len(sol)):\n",
        "    if sol[i] == 1:\n",
        "      fo += beneficio[i]\n",
        "      peso_total += peso[i]\n",
        "  if peso_total > cap:\n",
        "    fo -= pena*(peso_total - cap)\n",
        "  return fo\n",
        "\n",
        "\n",
        "#DADOS DO PROBLEMA-------------------#\n",
        "n = 8 #Quantidade de objetos\n",
        "beneficio = [4, 3, 2, 6, 2, 3, 5, 4]\n",
        "peso =      [5, 4, 3, 9, 4, 2, 6, 7]\n",
        "cap = 20 #Capacidade da mochila\n",
        "#------------------------------------#\n",
        "#------------------------------------#\n",
        "sol = n*[1] #Vetor para guardar a solução\n",
        "\n",
        "fo = get_fo(sol, beneficio, peso, cap, 2) #Função objetivo\n",
        "\n",
        "print(fo)\n"
      ]
    },
    {
      "cell_type": "code",
      "source": [
        "import math\n",
        "\n",
        "#Exercício 2\n",
        "def get_fo(sol, beneficio, peso, cap, pena):\n",
        "  fo = 0\n",
        "  peso_total = 0\n",
        "  for i in range(len(sol)):\n",
        "    if sol[i] == 1:\n",
        "      fo += beneficio[i]\n",
        "      peso_total += peso[i]\n",
        "  if peso_total > cap:\n",
        "    fo -= pena*(peso_total - cap)\n",
        "  return fo\n",
        "\n",
        "def melhor_vizinho(sol, beneficio, peso, cap, pena):\n",
        "  best = -math.inf\n",
        "  for i in range(len(sol)):\n",
        "    sol[i] = 1 - sol[i] #troca o bit\n",
        "    nfo = get_fo(sol, beneficio, peso, cap, pena)\n",
        "    if nfo > best:\n",
        "      best = nfo #Guarda o melhor valor\n",
        "      bi = i\n",
        "    sol[i] = 1 - sol[i] #volta ao estado anterior\n",
        "  return best, bi\n",
        "\n",
        "#DADOS DO PROBLEMA-------------------#\n",
        "n = 8 #Quantidade de objetos\n",
        "beneficio = [4, 3, 2, 6, 2, 3, 5, 4]\n",
        "peso =      [5, 4, 3, 9, 4, 2, 6, 7]\n",
        "cap = 20 #Capacidade da mochila\n",
        "#------------------------------------#\n",
        "#------------------------------------#\n",
        "sol = [0, 1, 0, 0, 1, 0, 0, 0] #Vetor para guardar a solução\n",
        "\n",
        "\n",
        "fo = get_fo(sol, beneficio, peso, cap, 2) #Função objetivo\n",
        "print('Solução inicial', fo)\n",
        "nfo, bi = melhor_vizinho(sol, beneficio, peso, cap, 2)\n",
        "if nfo > fo:\n",
        "  print('Melhor vizinho trocando bit', bi,',com FO =', nfo)\n",
        "else:\n",
        "  print('Ótimo Local')\n",
        "\n",
        "\n"
      ],
      "metadata": {
        "colab": {
          "base_uri": "https://localhost:8080/"
        },
        "id": "fNCmjzOJkPQ5",
        "outputId": "892f3b02-a80e-49a2-f8a0-0b3b3b895b3b"
      },
      "execution_count": 5,
      "outputs": [
        {
          "output_type": "stream",
          "name": "stdout",
          "text": [
            "Solução inicial 14\n",
            "Ótimo Local\n"
          ]
        }
      ]
    },
    {
      "cell_type": "code",
      "source": [
        "import math\n",
        "\n",
        "#Exercício 3\n",
        "def get_fo(sol, beneficio, peso, cap, pena):\n",
        "  fo = 0\n",
        "  peso_total = 0\n",
        "  for i in range(len(sol)):\n",
        "    if sol[i] == 1:\n",
        "      fo += beneficio[i]\n",
        "      peso_total += peso[i]\n",
        "  if peso_total > cap:\n",
        "    fo -= pena*(peso_total - cap)\n",
        "  return fo\n",
        "\n",
        "def melhor_vizinho(sol, beneficio, peso, cap, pena):\n",
        "  best = -math.inf\n",
        "  for i in range(len(sol)):\n",
        "    sol[i] = 1 - sol[i] #troca o bit\n",
        "    nfo = get_fo(sol, beneficio, peso, cap, pena)\n",
        "    if nfo > best:\n",
        "      best = nfo #Guarda o melhor valor\n",
        "      bi = i\n",
        "    sol[i] = 1 - sol[i] #volta ao estado anterior\n",
        "  return best, bi\n",
        "\n",
        "def busca_local(sol, beneficio, peso, cap, pena):\n",
        "  fo = get_fo(sol, beneficio, peso, cap, pena)\n",
        "  while True:\n",
        "    nfo, bi = melhor_vizinho(sol, beneficio, peso, cap, pena)\n",
        "    if nfo > fo:\n",
        "      fo = nfo\n",
        "      sol[bi] = 1 - sol[bi]\n",
        "      print('Melhor vizinho trocando bit', bi,',com FO =', nfo)\n",
        "    else:\n",
        "      print('Ótimo Local')\n",
        "      print('FO =', fo)\n",
        "      print('Solução', sol)\n",
        "      break\n",
        "#DADOS DO PROBLEMA-------------------#\n",
        "n = 8 #Quantidade de objetos\n",
        "beneficio = [4, 3, 2, 6, 2, 3, 5, 4]\n",
        "peso =      [5, 4, 3, 9, 4, 2, 6, 7]\n",
        "cap = 20 #Capacidade da mochila\n",
        "#------------------------------------#\n",
        "#------------------------------------#\n",
        "sol = [0, 1, 0, 0, 1, 0, 0, 0] #Vetor para guardar a solução\n",
        "pena = 2\n",
        "\n",
        "busca_local(sol, beneficio, peso, cap, pena)\n",
        "\n"
      ],
      "metadata": {
        "colab": {
          "base_uri": "https://localhost:8080/"
        },
        "id": "k88X1osnmWC2",
        "outputId": "a1ea713b-89be-46c5-c214-79f30058fda9"
      },
      "execution_count": 8,
      "outputs": [
        {
          "output_type": "stream",
          "name": "stdout",
          "text": [
            "Melhor vizinho trocando bit 3 ,com FO = 11\n",
            "Melhor vizinho trocando bit 5 ,com FO = 14\n",
            "Ótimo Local\n",
            "FO = 14\n",
            "Solução [0, 1, 0, 1, 1, 1, 0, 0]\n"
          ]
        }
      ]
    }
  ]
}