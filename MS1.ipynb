{
  "nbformat": 4,
  "nbformat_minor": 0,
  "metadata": {
    "colab": {
      "name": "MS1.ipynb",
      "provenance": [],
      "authorship_tag": "ABX9TyPCpwgaTHe4jav2cuvRF9J/",
      "include_colab_link": true
    },
    "kernelspec": {
      "name": "python3",
      "display_name": "Python 3"
    },
    "language_info": {
      "name": "python"
    }
  },
  "cells": [
    {
      "cell_type": "markdown",
      "metadata": {
        "id": "view-in-github",
        "colab_type": "text"
      },
      "source": [
        "<a href=\"https://colab.research.google.com/github/AlexandreXavierMartins/ProblemaDaMochila/blob/main/MS1.ipynb\" target=\"_parent\"><img src=\"https://colab.research.google.com/assets/colab-badge.svg\" alt=\"Open In Colab\"/></a>"
      ]
    },
    {
      "cell_type": "code",
      "metadata": {
        "colab": {
          "base_uri": "https://localhost:8080/",
          "height": 1000
        },
        "id": "NcfV94k0vfM0",
        "outputId": "87cb7703-9a58-4d9d-dd7e-f6d6e48138b7"
      },
      "source": [
        "import numpy as np\n",
        "import math\n",
        "import matplotlib.pyplot as plt\n",
        "\n",
        "def busca_local(s, b, p, n, pena):\n",
        "  fo = calcula_fo(b, p, s, n, cap, pena)\n",
        "  flag = 1\n",
        "  while flag:\n",
        "    flag = 0\n",
        "    melhor, bi = melhor_vizinho(s, b, p, n, pena)\n",
        "    if melhor > fo:\n",
        "      s[bi] = 1 - s[bi]\n",
        "      fo = melhor\n",
        "      flag = 1\n",
        "      print(s)\n",
        "      print(fo)\n",
        "  return s, fo\n",
        "\n",
        "  return s, fo\n",
        "def melhor_vizinho(s, b, p, n, pena):\n",
        "  melhor = -math.inf\n",
        "  for i in range(n):\n",
        "    s[i] = 1 - s[i] #Troca o bit\n",
        "    f = calcula_fo(b, p, s, n, cap, pena)\n",
        "    s[i] = 1 - s[i] #destroca\n",
        "    if f > melhor:\n",
        "      melhor = f\n",
        "      bi = i\n",
        "  return melhor, bi\n",
        "   \n",
        "\n",
        "  #print(melhor)\n",
        "\n",
        "def gera_sol(s, n, taxa):\n",
        "  for i in range(n):\n",
        "    x = np.random.random()\n",
        "    if x < taxa:\n",
        "      s[i] = 1\n",
        "  return s\n",
        "\n",
        "def calcula_fo(b, p, s, n, cap, pena):\n",
        "  fo = 0\n",
        "  pt = 0\n",
        "  for i in range(n):\n",
        "    fo = fo + s[i]*b[i]\n",
        "    pt = pt + s[i]*p[i]\n",
        "  if pt > cap:\n",
        "    #print('Solução inviável')\n",
        "    fo = fo -pena*(pt - cap)\n",
        "  return fo\n",
        "\n",
        "#DADOS DO PROBLEMA-------------------#\n",
        "n = 8 #Quantidade de objetos\n",
        "beneficio = [4, 3, 2, 6, 2, 3, 5, 4]\n",
        "peso =      [5, 4, 3, 9, 4, 2, 6, 7]\n",
        "cap = 20 #Capacidade da mochila\n",
        "#------------------------------------#\n",
        "#ESTATÍSTICAS------------------------#\n",
        "fo_inicial = []\n",
        "fo_final = []\n",
        "xlabel = []\n",
        "media = 0\n",
        "#------------------------------------#\n",
        "#PARÂMETROS--------------------------#\n",
        "penalidade = 2 #Penalidade por solução inviável\n",
        "taxa = 0.50    #Taxa para gerar sol. inicial, deve ser entre (0,1)\n",
        "np.random.seed(1000)\n",
        "itermax = 10\n",
        "#------------------------------------#\n",
        "sol_star = n*[0]\n",
        "fo_star = -math.inf \n",
        "\n",
        "for i in range(itermax):\n",
        "  xlabel.append(i)\n",
        "  sol = n*[0] #Vetor para guardar a Solução\n",
        "  gera_sol(sol, n, taxa)\n",
        "  fo = calcula_fo(beneficio, peso, sol, n, cap, penalidade)\n",
        "  fo_inicial.append(fo)\n",
        "  print(sol)\n",
        "  print(fo)\n",
        "  sol, fo = busca_local(sol, beneficio, peso, n, penalidade)\n",
        "  fo_final.append(fo)\n",
        "  if fo > fo_star:\n",
        "    fo_star = fo\n",
        "    best_iter = i\n",
        "    for j in range(n):\n",
        "      sol_star[j] = sol[j]\n",
        "  media = media + fo\n",
        "\n",
        "media = media/itermax\n",
        "print('Melhor solução = ', fo_star)\n",
        "print('Melhor iteração =', best_iter)\n",
        "print('Média = ', media)\n",
        "plt.scatter(xlabel, fo_inicial)\n",
        "plt.scatter(xlabel, fo_final)\n",
        "plt.title(\"FO em cada Iteração\", fontsize = 15, fontweight = 'bold')\n",
        "plt.xlabel(\"Iteração\", fontsize = 12, fontweight = 'bold')\n",
        "plt.ylabel(\"Função Objetivo\", fontsize = 12, fontweight = 'bold')\n",
        "plt.yticks(fontweight='bold')\n",
        "plt.show()"
      ],
      "execution_count": 1,
      "outputs": [
        {
          "output_type": "stream",
          "name": "stdout",
          "text": [
            "[0, 1, 0, 1, 0, 1, 1, 1]\n",
            "5\n",
            "[0, 1, 0, 0, 0, 1, 1, 1]\n",
            "15\n",
            "[1, 0, 1, 0, 1, 1, 0, 1]\n",
            "13\n",
            "[0, 0, 0, 1, 1, 0, 1, 0]\n",
            "13\n",
            "[0, 0, 0, 1, 1, 1, 1, 0]\n",
            "14\n",
            "[1, 1, 0, 0, 0, 0, 0, 0]\n",
            "7\n",
            "[1, 1, 0, 1, 0, 0, 0, 0]\n",
            "13\n",
            "[1, 1, 0, 1, 0, 1, 0, 0]\n",
            "16\n",
            "[1, 1, 1, 1, 0, 1, 0, 1]\n",
            "2\n",
            "[1, 1, 1, 0, 0, 1, 0, 1]\n",
            "14\n",
            "[1, 1, 0, 1, 1, 0, 0, 1]\n",
            "1\n",
            "[1, 1, 0, 0, 1, 0, 0, 1]\n",
            "13\n",
            "[1, 1, 0, 1, 0, 1, 0, 0]\n",
            "16\n",
            "[1, 1, 1, 1, 1, 1, 0, 0]\n",
            "6\n",
            "[1, 1, 1, 0, 1, 1, 0, 0]\n",
            "14\n",
            "[1, 1, 0, 0, 0, 1, 1, 1]\n",
            "11\n",
            "[1, 0, 0, 0, 0, 1, 1, 1]\n",
            "16\n",
            "[0, 0, 1, 1, 0, 0, 0, 1]\n",
            "12\n",
            "[0, 0, 1, 1, 0, 1, 0, 1]\n",
            "13\n",
            "Melhor solução =  16\n",
            "Melhor iteração = 3\n",
            "Média =  14.4\n"
          ]
        },
        {
          "output_type": "display_data",
          "data": {
            "image/png": "[encoded data removed]",
            "text/plain": [
              "<Figure size 432x288 with 1 Axes>"
            ]
          },
          "metadata": {
            "needs_background": "light"
          }
        }
      ]
    }
  ]
}