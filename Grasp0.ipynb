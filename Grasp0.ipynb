{
  "nbformat": 4,
  "nbformat_minor": 0,
  "metadata": {
    "colab": {
      "name": "Grasp0.ipynb",
      "provenance": [],
      "authorship_tag": "ABX9TyOwuf7hDFhceP7W4aUm/mmj",
      "include_colab_link": true
    },
    "kernelspec": {
      "name": "python3",
      "display_name": "Python 3"
    },
    "language_info": {
      "name": "python"
    }
  },
  "cells": [
    {
      "cell_type": "markdown",
      "metadata": {
        "id": "view-in-github",
        "colab_type": "text"
      },
      "source": [
        "<a href=\"https://colab.research.google.com/github/AlexandreXavierMartins/ProblemaDaMochila/blob/main/Grasp0.ipynb\" target=\"_parent\"><img src=\"https://colab.research.google.com/assets/colab-badge.svg\" alt=\"Open In Colab\"/></a>"
      ]
    },
    {
      "cell_type": "code",
      "metadata": {
        "id": "jsSogkokDuq1"
      },
      "source": [
        "import numpy as np\n",
        "import math\n",
        "import matplotlib.pyplot as plt\n",
        "\n",
        "def busca_local(s, b, p, n, pena):\n",
        "  fo = calcula_fo(b, p, s, n, cap, pena)\n",
        "  flag = 1\n",
        "  while flag:\n",
        "    flag = 0\n",
        "    melhor, bi = melhor_vizinho(s, b, p, n, pena)\n",
        "    if melhor > fo:\n",
        "      s[bi] = 1 - s[bi]\n",
        "      fo = melhor\n",
        "      flag = 1\n",
        "      #print(s)\n",
        "      #print(fo)\n",
        "  return s, fo\n",
        "\n",
        "  return s, fo\n",
        "def melhor_vizinho(s, b, p, n, pena):\n",
        "  melhor = -math.inf\n",
        "  for i in range(n):\n",
        "    s[i] = 1 - s[i] #Troca o bit\n",
        "    f = calcula_fo(b, p, s, n, cap, pena)\n",
        "    s[i] = 1 - s[i] #destroca\n",
        "    if f > melhor:\n",
        "      melhor = f\n",
        "      bi = i\n",
        "  return melhor, bi\n",
        "   \n",
        "\n",
        "  #print(melhor)\n",
        "\n",
        "def gera_sol_grasp(s, n, alpha, v):\n",
        "  #Sorteia número de elementos que serão colocados na mochila\n",
        "  #procura o valor mínimo e o máximo do vetor v (somente se não está na solução)\n",
        "  #calcula o limite dos elementos que podem entrar na LRC\n",
        "  #coloca os elementos na lista\n",
        "  #Sorteia\n",
        "  #Insere o elemento sorteado na solução\n",
        " \n",
        "\n",
        "def calcula_fo(b, p, s, n, cap, pena):\n",
        "  fo = 0\n",
        "  pt = 0\n",
        "  for i in range(n):\n",
        "    fo = fo + s[i]*b[i]\n",
        "    pt = pt + s[i]*p[i]\n",
        "  if pt > cap:\n",
        "    #print('Solução inviável')\n",
        "    fo = fo -pena*(pt - cap)\n",
        "  return fo\n",
        "\n",
        "#DADOS DO PROBLEMA-------------------#\n",
        "n = 8 #Quantidade de objetos\n",
        "beneficio = [4, 3, 2, 6, 2, 3, 5, 4]\n",
        "peso =      [5, 4, 3, 9, 4, 2, 6, 7]\n",
        "cap = 20 #Capacidade da mochila\n",
        "#------------------------------------#\n",
        "#ESTATÍSTICAS------------------------#\n",
        "fo_inicial = []\n",
        "fo_final = []\n",
        "xlabel = []\n",
        "media = 0\n",
        "#------------------------------------#\n",
        "#PARÂMETROS--------------------------#\n",
        "penalidade = 2 #Penalidade por solução inviável\n",
        "alpha = 0.5    #Taxa de aleatoriedade do GRASP (entre (0,1))\n",
        "itermax = 10\n",
        "#------------------------------------#"
      ],
      "execution_count": null,
      "outputs": []
    }
  ]
}